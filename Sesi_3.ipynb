{
  "nbformat": 4,
  "nbformat_minor": 0,
  "metadata": {
    "colab": {
      "provenance": [],
      "authorship_tag": "ABX9TyMmvFx3e8AdEtTjTBsDDVJ8",
      "include_colab_link": true
    },
    "kernelspec": {
      "name": "python3",
      "display_name": "Python 3"
    },
    "language_info": {
      "name": "python"
    }
  },
  "cells": [
    {
      "cell_type": "markdown",
      "metadata": {
        "id": "view-in-github",
        "colab_type": "text"
      },
      "source": [
        "<a href=\"https://colab.research.google.com/github/DITHAAAA/Stupen_Batch5/blob/main/Sesi_3.ipynb\" target=\"_parent\"><img src=\"https://colab.research.google.com/assets/colab-badge.svg\" alt=\"Open In Colab\"/></a>"
      ]
    },
    {
      "cell_type": "markdown",
      "source": [
        "# **Function, Module, Package**"
      ],
      "metadata": {
        "id": "KuoJBE2OfqzZ"
      }
    },
    {
      "cell_type": "code",
      "execution_count": 1,
      "metadata": {
        "colab": {
          "base_uri": "https://localhost:8080/"
        },
        "id": "9A1OLmCvdD6r",
        "outputId": "b3bc9698-e5a8-47fe-bfae-3ce6c4d6d135"
      },
      "outputs": [
        {
          "output_type": "stream",
          "name": "stdout",
          "text": [
            "10\n"
          ]
        }
      ],
      "source": [
        "print(10)"
      ]
    },
    {
      "cell_type": "code",
      "source": [
        "help(print)"
      ],
      "metadata": {
        "colab": {
          "base_uri": "https://localhost:8080/"
        },
        "id": "TvioN3UEf4DE",
        "outputId": "0788e44c-9bc6-4f97-e396-23c2b92bb196"
      },
      "execution_count": 2,
      "outputs": [
        {
          "output_type": "stream",
          "name": "stdout",
          "text": [
            "Help on built-in function print in module builtins:\n",
            "\n",
            "print(...)\n",
            "    print(value, ..., sep=' ', end='\\n', file=sys.stdout, flush=False)\n",
            "    \n",
            "    Prints the values to a stream, or to sys.stdout by default.\n",
            "    Optional keyword arguments:\n",
            "    file:  a file-like object (stream); defaults to the current sys.stdout.\n",
            "    sep:   string inserted between values, default a space.\n",
            "    end:   string appended after the last value, default a newline.\n",
            "    flush: whether to forcibly flush the stream.\n",
            "\n"
          ]
        }
      ]
    },
    {
      "cell_type": "code",
      "source": [
        "help(help)"
      ],
      "metadata": {
        "colab": {
          "base_uri": "https://localhost:8080/"
        },
        "id": "Ajd1nn2Mf8qE",
        "outputId": "7c096b3a-61b3-48f7-e29a-02ff192da951"
      },
      "execution_count": 3,
      "outputs": [
        {
          "output_type": "stream",
          "name": "stdout",
          "text": [
            "Help on _Helper in module _sitebuiltins object:\n",
            "\n",
            "class _Helper(builtins.object)\n",
            " |  Define the builtin 'help'.\n",
            " |  \n",
            " |  This is a wrapper around pydoc.help that provides a helpful message\n",
            " |  when 'help' is typed at the Python interactive prompt.\n",
            " |  \n",
            " |  Calling help() at the Python prompt starts an interactive help session.\n",
            " |  Calling help(thing) prints help for the python object 'thing'.\n",
            " |  \n",
            " |  Methods defined here:\n",
            " |  \n",
            " |  __call__(self, *args, **kwds)\n",
            " |      Call self as a function.\n",
            " |  \n",
            " |  __repr__(self)\n",
            " |      Return repr(self).\n",
            " |  \n",
            " |  ----------------------------------------------------------------------\n",
            " |  Data descriptors defined here:\n",
            " |  \n",
            " |  __dict__\n",
            " |      dictionary for instance variables (if defined)\n",
            " |  \n",
            " |  __weakref__\n",
            " |      list of weak references to the object (if defined)\n",
            "\n"
          ]
        }
      ]
    },
    {
      "cell_type": "code",
      "source": [
        "def function_name(params):\n",
        "    \"\"\"_summary_\n",
        "    ini docstring\n",
        "\n",
        "    Args:\n",
        "        params (_type_): _description_\n",
        "    \"\"\"\n",
        "    # statement\n",
        "    pass"
      ],
      "metadata": {
        "id": "fVm5EXEDf-_I"
      },
      "execution_count": 4,
      "outputs": []
    },
    {
      "cell_type": "code",
      "source": [
        "print(\"hai\")"
      ],
      "metadata": {
        "colab": {
          "base_uri": "https://localhost:8080/"
        },
        "id": "6FkRiYomgGsj",
        "outputId": "dd1daaae-467d-4275-cbda-6b678bdcc915"
      },
      "execution_count": 5,
      "outputs": [
        {
          "output_type": "stream",
          "name": "stdout",
          "text": [
            "hai\n"
          ]
        }
      ]
    },
    {
      "cell_type": "code",
      "source": [
        "def cetak(params):\n",
        "    \"\"\"Alias dari print\n",
        "\n",
        "    Args:\n",
        "        params (str, int): text\n",
        "    \"\"\"\n",
        "    print(params)"
      ],
      "metadata": {
        "id": "Z__iTO1ggWCD"
      },
      "execution_count": 6,
      "outputs": []
    },
    {
      "cell_type": "code",
      "source": [
        "print(10)"
      ],
      "metadata": {
        "colab": {
          "base_uri": "https://localhost:8080/"
        },
        "id": "gTBn1epNgYsW",
        "outputId": "3e074709-e199-42c7-a075-082e29629f5a"
      },
      "execution_count": 7,
      "outputs": [
        {
          "output_type": "stream",
          "name": "stdout",
          "text": [
            "10\n"
          ]
        }
      ]
    },
    {
      "cell_type": "code",
      "source": [
        "cetak(10)"
      ],
      "metadata": {
        "colab": {
          "base_uri": "https://localhost:8080/"
        },
        "id": "DRomhIZUga2O",
        "outputId": "4ed0dc60-b63e-46e6-c119-6e7548199904"
      },
      "execution_count": 8,
      "outputs": [
        {
          "output_type": "stream",
          "name": "stdout",
          "text": [
            "10\n"
          ]
        }
      ]
    },
    {
      "cell_type": "code",
      "source": [
        "help(cetak)"
      ],
      "metadata": {
        "colab": {
          "base_uri": "https://localhost:8080/"
        },
        "id": "gAyY3Mxngc08",
        "outputId": "e5e92665-294d-4c47-d206-bb94f6acafe4"
      },
      "execution_count": 9,
      "outputs": [
        {
          "output_type": "stream",
          "name": "stdout",
          "text": [
            "Help on function cetak in module __main__:\n",
            "\n",
            "cetak(params)\n",
            "    Alias dari print\n",
            "    \n",
            "    Args:\n",
            "        params (str, int): text\n",
            "\n"
          ]
        }
      ]
    },
    {
      "cell_type": "code",
      "source": [
        "def my_function(p, l):\n",
        "    \"\"\"\n",
        "    Function untuk menghitung luas\n",
        "    \"\"\"\n",
        "    print(p * l)"
      ],
      "metadata": {
        "id": "3wJVONligfrL"
      },
      "execution_count": 10,
      "outputs": []
    },
    {
      "cell_type": "code",
      "source": [
        "my_function(2, 4)"
      ],
      "metadata": {
        "colab": {
          "base_uri": "https://localhost:8080/"
        },
        "id": "ZjovPfJpgjZm",
        "outputId": "42732601-dd29-46c9-c90d-060f62f27616"
      },
      "execution_count": 11,
      "outputs": [
        {
          "output_type": "stream",
          "name": "stdout",
          "text": [
            "8\n"
          ]
        }
      ]
    },
    {
      "cell_type": "code",
      "source": [
        "def printme( str ):\n",
        "   \"This prints a passed string into this function\"\n",
        "   print(str)\n",
        "   return"
      ],
      "metadata": {
        "id": "_jtqLdeVgmIb"
      },
      "execution_count": 12,
      "outputs": []
    },
    {
      "cell_type": "code",
      "source": [
        "cetak(\"Ini printing dengan user function\")"
      ],
      "metadata": {
        "colab": {
          "base_uri": "https://localhost:8080/"
        },
        "id": "Q97w3raDgpQN",
        "outputId": "8c8eee77-5458-43ff-c013-ea2198146142"
      },
      "execution_count": 13,
      "outputs": [
        {
          "output_type": "stream",
          "name": "stdout",
          "text": [
            "Ini printing dengan user function\n"
          ]
        }
      ]
    },
    {
      "cell_type": "markdown",
      "source": [
        "# **Pass by Reference VS Value**"
      ],
      "metadata": {
        "id": "ZC4KHaE4gwub"
      }
    },
    {
      "cell_type": "code",
      "source": [
        "def changeme(mylist):\n",
        "    \"This changes a passed list into this function\"\n",
        "    mylist.append([1, 2, 3, 4])\n",
        "    print(\"Values inside the function: \", mylist)\n",
        "    return"
      ],
      "metadata": {
        "id": "kpgZLofag_NL"
      },
      "execution_count": 14,
      "outputs": []
    },
    {
      "cell_type": "code",
      "source": [
        "mylist = [10, 20, 30]\n",
        "\n",
        "print(\"Values sebelum changeme: \", mylist)\n",
        "\n",
        "# printing Values inside\n",
        "changeme(mylist)\n",
        "\n",
        "print(\"Values setelah changeme: \", mylist)"
      ],
      "metadata": {
        "colab": {
          "base_uri": "https://localhost:8080/"
        },
        "id": "4rg1remjhCYU",
        "outputId": "20c9afc2-46a1-400f-be1b-93a39daa3daf"
      },
      "execution_count": 15,
      "outputs": [
        {
          "output_type": "stream",
          "name": "stdout",
          "text": [
            "Values sebelum changeme:  [10, 20, 30]\n",
            "Values inside the function:  [10, 20, 30, [1, 2, 3, 4]]\n",
            "Values setelah changeme:  [10, 20, 30, [1, 2, 3, 4]]\n"
          ]
        }
      ]
    },
    {
      "cell_type": "code",
      "source": [
        "def changeme(mylist):\n",
        "    \"This changes a passed list into this function\"\n",
        "    print(\"Values inside the function, before reassignment: \", mylist)\n",
        "    mylist = [1, 2, 3, 4]  # This would assign new reference in mylist\n",
        "    print(\"Values inside the function, after reassignment: \", mylist)\n",
        "    return"
      ],
      "metadata": {
        "id": "a-mEuyLlhGUR"
      },
      "execution_count": 16,
      "outputs": []
    },
    {
      "cell_type": "code",
      "source": [
        "mylist = [10, 20, 30]\n",
        "\n",
        "print(\"Values sebelum changeme: \", mylist)\n",
        "\n",
        "# printing Values inside;\n",
        "changeme(mylist)\n",
        "\n",
        "print(\"Values setelah changeme: \", mylist)"
      ],
      "metadata": {
        "colab": {
          "base_uri": "https://localhost:8080/"
        },
        "id": "g8QEG-hYhJgy",
        "outputId": "e687c30c-1249-4e37-a325-19056776f812"
      },
      "execution_count": 17,
      "outputs": [
        {
          "output_type": "stream",
          "name": "stdout",
          "text": [
            "Values sebelum changeme:  [10, 20, 30]\n",
            "Values inside the function, before reassignment:  [10, 20, 30]\n",
            "Values inside the function, after reassignment:  [1, 2, 3, 4]\n",
            "Values setelah changeme:  [10, 20, 30]\n"
          ]
        }
      ]
    },
    {
      "cell_type": "markdown",
      "source": [
        "# **Arguments**\n",
        "\n",
        "*   Required\n",
        "*   Keyword\n",
        "*   Default\n",
        "*   Variable-lenght"
      ],
      "metadata": {
        "id": "7r-sQx7phMCT"
      }
    },
    {
      "cell_type": "markdown",
      "source": [
        "### **Required**"
      ],
      "metadata": {
        "id": "1kuUD0cnhnKi"
      }
    },
    {
      "cell_type": "code",
      "source": [
        "def cetak(str):\n",
        "    \"\"\"\n",
        "    Alias dari print\n",
        "    \"\"\"\n",
        "    print(str)\n",
        "    return"
      ],
      "metadata": {
        "id": "wN9ChOjPhtQY"
      },
      "execution_count": 18,
      "outputs": []
    },
    {
      "cell_type": "code",
      "source": [
        "def cetak2(str=5):\n",
        "    print(str)"
      ],
      "metadata": {
        "id": "s_CH26EFidrB"
      },
      "execution_count": 19,
      "outputs": []
    },
    {
      "cell_type": "code",
      "source": [
        "cetak2()"
      ],
      "metadata": {
        "colab": {
          "base_uri": "https://localhost:8080/"
        },
        "id": "z2qzCqvkier3",
        "outputId": "b5754dfd-b0e7-407c-8959-bf478ce41088"
      },
      "execution_count": 20,
      "outputs": [
        {
          "output_type": "stream",
          "name": "stdout",
          "text": [
            "5\n"
          ]
        }
      ]
    },
    {
      "cell_type": "code",
      "source": [
        "cetak2(str=\"hai\")"
      ],
      "metadata": {
        "colab": {
          "base_uri": "https://localhost:8080/"
        },
        "id": "B-BhN1gSii6Y",
        "outputId": "47dd0e98-be33-40a2-9e51-905969d4643b"
      },
      "execution_count": 21,
      "outputs": [
        {
          "output_type": "stream",
          "name": "stdout",
          "text": [
            "hai\n"
          ]
        }
      ]
    },
    {
      "cell_type": "code",
      "source": [
        "help(cetak2)"
      ],
      "metadata": {
        "colab": {
          "base_uri": "https://localhost:8080/"
        },
        "id": "a6vSU9CziyDB",
        "outputId": "a796983e-921c-4cf4-a8e9-722d4fe0eaf7"
      },
      "execution_count": 22,
      "outputs": [
        {
          "output_type": "stream",
          "name": "stdout",
          "text": [
            "Help on function cetak2 in module __main__:\n",
            "\n",
            "cetak2(str=5)\n",
            "\n"
          ]
        }
      ]
    },
    {
      "cell_type": "code",
      "source": [
        "cetak2(\"hai\")"
      ],
      "metadata": {
        "colab": {
          "base_uri": "https://localhost:8080/"
        },
        "id": "RyRFePO3i5rg",
        "outputId": "86fdb96a-379b-472c-f26d-c1f41c5bddfb"
      },
      "execution_count": 23,
      "outputs": [
        {
          "output_type": "stream",
          "name": "stdout",
          "text": [
            "hai\n"
          ]
        }
      ]
    },
    {
      "cell_type": "code",
      "source": [
        "def cetak3(str, req_1=\"hai\", req_2=\"world\"):\n",
        "    print(str, req_1, req_2)"
      ],
      "metadata": {
        "id": "2u5xDWL9jJQ7"
      },
      "execution_count": 24,
      "outputs": []
    },
    {
      "cell_type": "code",
      "source": [
        "cetak3(5)"
      ],
      "metadata": {
        "colab": {
          "base_uri": "https://localhost:8080/"
        },
        "id": "WlvRkOWxjNKD",
        "outputId": "b66354cf-d09a-4b24-f5ff-86075868cbf2"
      },
      "execution_count": 25,
      "outputs": [
        {
          "output_type": "stream",
          "name": "stdout",
          "text": [
            "5 hai world\n"
          ]
        }
      ]
    },
    {
      "cell_type": "code",
      "source": [
        "cetak3(5, \"bye\", \"good\")"
      ],
      "metadata": {
        "colab": {
          "base_uri": "https://localhost:8080/"
        },
        "id": "pfAU9gOxjOoe",
        "outputId": "189b0cea-240f-4920-f894-111f557e15dc"
      },
      "execution_count": 26,
      "outputs": [
        {
          "output_type": "stream",
          "name": "stdout",
          "text": [
            "5 bye good\n"
          ]
        }
      ]
    },
    {
      "cell_type": "code",
      "source": [
        "cetak3(str=5, req_1=\"bye\", req_2=\"good\")"
      ],
      "metadata": {
        "colab": {
          "base_uri": "https://localhost:8080/"
        },
        "id": "Tmu7LzSsjVYm",
        "outputId": "5ef2709e-3083-48da-81ae-e4c190eb9bd2"
      },
      "execution_count": 27,
      "outputs": [
        {
          "output_type": "stream",
          "name": "stdout",
          "text": [
            "5 bye good\n"
          ]
        }
      ]
    },
    {
      "cell_type": "code",
      "source": [
        "cetak3(5, req_1=\"bye\", req_2=\"good\")"
      ],
      "metadata": {
        "colab": {
          "base_uri": "https://localhost:8080/"
        },
        "id": "ekqOGaw0jYGF",
        "outputId": "a9df2952-69b5-4833-ea3b-5f3b503e4fab"
      },
      "execution_count": 28,
      "outputs": [
        {
          "output_type": "stream",
          "name": "stdout",
          "text": [
            "5 bye good\n"
          ]
        }
      ]
    },
    {
      "cell_type": "code",
      "source": [
        "cetak3(5, \"bye\", req_2=\"good\")"
      ],
      "metadata": {
        "colab": {
          "base_uri": "https://localhost:8080/"
        },
        "id": "buanpatBja-9",
        "outputId": "7315aa6c-ba43-48cb-dde1-6adfe1ec5b1c"
      },
      "execution_count": 29,
      "outputs": [
        {
          "output_type": "stream",
          "name": "stdout",
          "text": [
            "5 bye good\n"
          ]
        }
      ]
    },
    {
      "cell_type": "code",
      "source": [
        "cetak3(5, req_2=\"bye\", req_1=\"good\")"
      ],
      "metadata": {
        "colab": {
          "base_uri": "https://localhost:8080/"
        },
        "id": "1FNRXy5tjkpQ",
        "outputId": "44b7be66-131d-4a14-8efe-7430c026773a"
      },
      "execution_count": 30,
      "outputs": [
        {
          "output_type": "stream",
          "name": "stdout",
          "text": [
            "5 good bye\n"
          ]
        }
      ]
    },
    {
      "cell_type": "code",
      "source": [
        "def printinfo(arg1, *args):\n",
        "    \"\"\"\n",
        "    This prints a variable passed arguments\n",
        "    \"\"\"\n",
        "    print(\"Output is: \")\n",
        "    print(arg1)\n",
        "    print(args)\n",
        "    print(type(args))\n",
        "    # for var in args:\n",
        "    #     print(var)\n",
        "    return"
      ],
      "metadata": {
        "id": "SSWmAf4Xjr6X"
      },
      "execution_count": 31,
      "outputs": []
    },
    {
      "cell_type": "code",
      "source": [
        "def printinfo2(arg1, arg2=5, **kwargs):\n",
        "    \"\"\"\n",
        "    This prints a variable passed arguments\n",
        "    \"\"\"\n",
        "    print(\"Output is: \")\n",
        "    print(arg1)\n",
        "    print(arg2)\n",
        "    if kwargs:\n",
        "        print(kwargs[\"b\"])\n",
        "    # for var in args:\n",
        "    #     print(var)\n",
        "    return"
      ],
      "metadata": {
        "id": "hCpGRlkXjszV"
      },
      "execution_count": 32,
      "outputs": []
    },
    {
      "cell_type": "code",
      "source": [
        "printinfo2(10)\n",
        "printinfo2(10, 20, b=30, c=40, d=\"a\")"
      ],
      "metadata": {
        "colab": {
          "base_uri": "https://localhost:8080/"
        },
        "id": "ZVoZ5In_j1sU",
        "outputId": "849b6684-8230-49d2-d6c6-8644562e8a33"
      },
      "execution_count": 33,
      "outputs": [
        {
          "output_type": "stream",
          "name": "stdout",
          "text": [
            "Output is: \n",
            "10\n",
            "5\n",
            "Output is: \n",
            "10\n",
            "20\n",
            "30\n"
          ]
        }
      ]
    },
    {
      "cell_type": "markdown",
      "source": [
        "# **Anonymous Functions**"
      ],
      "metadata": {
        "id": "lF1tZVHEj__x"
      }
    },
    {
      "cell_type": "code",
      "source": [
        "def hitung_luas(p, l):\n",
        "    print(p * l)\n",
        "\n",
        "hitung_luas(10, 20)"
      ],
      "metadata": {
        "colab": {
          "base_uri": "https://localhost:8080/"
        },
        "id": "kH24PkKAkOsr",
        "outputId": "29677d70-cc4d-4581-f3fd-62b6cfeda3f4"
      },
      "execution_count": 34,
      "outputs": [
        {
          "output_type": "stream",
          "name": "stdout",
          "text": [
            "200\n"
          ]
        }
      ]
    },
    {
      "cell_type": "code",
      "source": [
        "luas = lambda p, l: print(p * l)"
      ],
      "metadata": {
        "id": "BimUb6kbkSyt"
      },
      "execution_count": 35,
      "outputs": []
    },
    {
      "cell_type": "code",
      "source": [
        "luas(10, 20)"
      ],
      "metadata": {
        "colab": {
          "base_uri": "https://localhost:8080/"
        },
        "id": "f309HAFvkVuW",
        "outputId": "140a3b45-76aa-46d1-8d35-ba5c23263719"
      },
      "execution_count": 36,
      "outputs": [
        {
          "output_type": "stream",
          "name": "stdout",
          "text": [
            "200\n"
          ]
        }
      ]
    },
    {
      "cell_type": "code",
      "source": [
        "mylist = [10, 20, 30]"
      ],
      "metadata": {
        "id": "EcTYOmn9kaB0"
      },
      "execution_count": 37,
      "outputs": []
    },
    {
      "cell_type": "code",
      "source": [
        "# for loop\n",
        "newlist = []\n",
        "for i in mylist:\n",
        "    newlist.append(i * 2)\n",
        "\n",
        "print(newlist)"
      ],
      "metadata": {
        "colab": {
          "base_uri": "https://localhost:8080/"
        },
        "id": "rZCBGdq8kc32",
        "outputId": "57672c91-0fb4-411d-9b22-56b75f7cdee9"
      },
      "execution_count": 38,
      "outputs": [
        {
          "output_type": "stream",
          "name": "stdout",
          "text": [
            "[20, 40, 60]\n"
          ]
        }
      ]
    },
    {
      "cell_type": "code",
      "source": [
        "# list comprehension\n",
        "[(i * 2) for i in mylist]"
      ],
      "metadata": {
        "colab": {
          "base_uri": "https://localhost:8080/"
        },
        "id": "oeUe3BmrkfpK",
        "outputId": "82a68bf9-c8cf-46e8-e4da-172090d7d0f3"
      },
      "execution_count": 39,
      "outputs": [
        {
          "output_type": "execute_result",
          "data": {
            "text/plain": [
              "[20, 40, 60]"
            ]
          },
          "metadata": {},
          "execution_count": 39
        }
      ]
    },
    {
      "cell_type": "code",
      "source": [
        "# bikin function\n",
        "def kalidua(x):\n",
        "    return x * 2\n",
        "\n",
        "lambda x: x * 2\n",
        "\n",
        "list(map(kalidua, mylist))"
      ],
      "metadata": {
        "colab": {
          "base_uri": "https://localhost:8080/"
        },
        "id": "vCRj7uvukhvg",
        "outputId": "8e5152c2-638a-4bc4-d3d8-021b954d3bf9"
      },
      "execution_count": 40,
      "outputs": [
        {
          "output_type": "execute_result",
          "data": {
            "text/plain": [
              "[20, 40, 60]"
            ]
          },
          "metadata": {},
          "execution_count": 40
        }
      ]
    },
    {
      "cell_type": "code",
      "source": [
        "# lambda function\n",
        "list(map(lambda x: x * 2, mylist))"
      ],
      "metadata": {
        "colab": {
          "base_uri": "https://localhost:8080/"
        },
        "id": "7gC2ZSvykr_1",
        "outputId": "068a28c4-d143-415b-c42c-b4cf8977be45"
      },
      "execution_count": 41,
      "outputs": [
        {
          "output_type": "execute_result",
          "data": {
            "text/plain": [
              "[20, 40, 60]"
            ]
          },
          "metadata": {},
          "execution_count": 41
        }
      ]
    },
    {
      "cell_type": "markdown",
      "source": [
        "# **Return**"
      ],
      "metadata": {
        "id": "IKK16KanktHw"
      }
    },
    {
      "cell_type": "code",
      "source": [
        "def sum_kalidua(arg1, arg2):\n",
        "    \"\"\"\n",
        "    Add both parameter and return\n",
        "    \"\"\"\n",
        "    total = arg1 + arg2  # local variable\n",
        "    total2 = total * 2\n",
        "    print(\"Inside the function: \", total)\n",
        "    return total2\n",
        "\n",
        "total = sum_kalidua(10, 20)  # global variable\n",
        "print(\"Outside the function: \", total)"
      ],
      "metadata": {
        "colab": {
          "base_uri": "https://localhost:8080/"
        },
        "id": "0RTTcXbAkwfY",
        "outputId": "bb36786d-5dd0-46ff-decf-f88e4bbbf6d7"
      },
      "execution_count": 42,
      "outputs": [
        {
          "output_type": "stream",
          "name": "stdout",
          "text": [
            "Inside the function:  30\n",
            "Outside the function:  60\n"
          ]
        }
      ]
    },
    {
      "cell_type": "markdown",
      "source": [
        "# **Global vs Local Variable**"
      ],
      "metadata": {
        "id": "UaOIuY3tk0H2"
      }
    },
    {
      "cell_type": "code",
      "source": [
        "total = 0\n",
        "\n",
        "def sum(arg1, arg2):\n",
        "    total = arg1 + arg2\n",
        "    print(\"Inside the function local total: \", total)\n",
        "    return total\n",
        "\n",
        "sum(10, 20)\n",
        "print(\"Outside the function global total: \", total)"
      ],
      "metadata": {
        "colab": {
          "base_uri": "https://localhost:8080/"
        },
        "id": "xRMYnCfkk709",
        "outputId": "ee441512-9250-401f-f477-f7ef6ba20dbc"
      },
      "execution_count": 43,
      "outputs": [
        {
          "output_type": "stream",
          "name": "stdout",
          "text": [
            "Inside the function local total:  30\n",
            "Outside the function global total:  0\n"
          ]
        }
      ]
    },
    {
      "cell_type": "code",
      "source": [
        "jumlah_kucing = 20\n",
        "\n",
        "def hitung_hewan():\n",
        "    jumlah_anjing = 30\n",
        "    return jumlah_kucing + jumlah_anjing\n",
        "\n",
        "def hitung_kelinci():\n",
        "    return jumlah_kucing + jumlah_kucing\n",
        "\n",
        "jumlah_hewan = hitung_hewan()\n",
        "jumlah_kelinci = hitung_kelinci()\n",
        "\n",
        "print(jumlah_hewan)\n",
        "print(jumlah_kelinci)"
      ],
      "metadata": {
        "colab": {
          "base_uri": "https://localhost:8080/"
        },
        "id": "pdzPGOrQlAZ1",
        "outputId": "c642764e-8cf5-4e36-f69b-26fb17fdef58"
      },
      "execution_count": 44,
      "outputs": [
        {
          "output_type": "stream",
          "name": "stdout",
          "text": [
            "50\n",
            "40\n"
          ]
        }
      ]
    },
    {
      "cell_type": "code",
      "source": [
        "import mod"
      ],
      "metadata": {
        "id": "FQvI47dxlCww"
      },
      "execution_count": 45,
      "outputs": []
    },
    {
      "cell_type": "code",
      "source": [
        "print(mod.s)\n",
        "print(mod.a)"
      ],
      "metadata": {
        "colab": {
          "base_uri": "https://localhost:8080/"
        },
        "id": "7bUjXreSlFil",
        "outputId": "d0e104c3-8b1a-4ded-b3cf-58a4c73d1603"
      },
      "execution_count": 46,
      "outputs": [
        {
          "output_type": "stream",
          "name": "stdout",
          "text": [
            "Hacktiv8-PTP Python For Data Science\n",
            "[100, 200, 300]\n"
          ]
        }
      ]
    },
    {
      "cell_type": "code",
      "source": [
        "mod.foo(\"hai\")"
      ],
      "metadata": {
        "colab": {
          "base_uri": "https://localhost:8080/"
        },
        "id": "orusTMumlHpt",
        "outputId": "8caca26e-f142-4a62-e4aa-77658516bc78"
      },
      "execution_count": 47,
      "outputs": [
        {
          "output_type": "stream",
          "name": "stdout",
          "text": [
            "arg = hai\n"
          ]
        }
      ]
    },
    {
      "cell_type": "code",
      "source": [
        "mod.Foo"
      ],
      "metadata": {
        "colab": {
          "base_uri": "https://localhost:8080/"
        },
        "id": "BHTqvBzZlM1L",
        "outputId": "2c7c28ed-c6ce-47a9-d298-3879fa5a0a3a"
      },
      "execution_count": 48,
      "outputs": [
        {
          "output_type": "execute_result",
          "data": {
            "text/plain": [
              "mod.Foo"
            ]
          },
          "metadata": {},
          "execution_count": 48
        }
      ]
    },
    {
      "cell_type": "code",
      "source": [
        "import sys"
      ],
      "metadata": {
        "id": "LtWAK4nNlQO-"
      },
      "execution_count": 49,
      "outputs": []
    },
    {
      "cell_type": "code",
      "source": [
        "sys.path"
      ],
      "metadata": {
        "colab": {
          "base_uri": "https://localhost:8080/"
        },
        "id": "ST2jYSeGlSKN",
        "outputId": "af0213e1-8005-48be-a027-e32bf09eded2"
      },
      "execution_count": 50,
      "outputs": [
        {
          "output_type": "execute_result",
          "data": {
            "text/plain": [
              "['/content',\n",
              " '/env/python',\n",
              " '/usr/lib/python310.zip',\n",
              " '/usr/lib/python3.10',\n",
              " '/usr/lib/python3.10/lib-dynload',\n",
              " '',\n",
              " '/usr/local/lib/python3.10/dist-packages',\n",
              " '/usr/lib/python3/dist-packages',\n",
              " '/usr/local/lib/python3.10/dist-packages/IPython/extensions',\n",
              " '/root/.ipython']"
            ]
          },
          "metadata": {},
          "execution_count": 50
        }
      ]
    },
    {
      "cell_type": "code",
      "source": [
        "import argparse"
      ],
      "metadata": {
        "id": "zZffURTFlUzt"
      },
      "execution_count": 51,
      "outputs": []
    },
    {
      "cell_type": "code",
      "source": [
        "help(argparse)"
      ],
      "metadata": {
        "colab": {
          "base_uri": "https://localhost:8080/"
        },
        "id": "Ovd_sYOxlXC_",
        "outputId": "9a996ef9-2037-459c-e1f4-fae9aa75f457"
      },
      "execution_count": 52,
      "outputs": [
        {
          "output_type": "stream",
          "name": "stdout",
          "text": [
            "Help on module argparse:\n",
            "\n",
            "NAME\n",
            "    argparse - Command-line parsing library\n",
            "\n",
            "MODULE REFERENCE\n",
            "    https://docs.python.org/3.10/library/argparse.html\n",
            "    \n",
            "    The following documentation is automatically generated from the Python\n",
            "    source files.  It may be incomplete, incorrect or include features that\n",
            "    are considered implementation detail and may vary between Python\n",
            "    implementations.  When in doubt, consult the module reference at the\n",
            "    location listed above.\n",
            "\n",
            "DESCRIPTION\n",
            "    This module is an optparse-inspired command-line parsing library that:\n",
            "    \n",
            "        - handles both optional and positional arguments\n",
            "        - produces highly informative usage messages\n",
            "        - supports parsers that dispatch to sub-parsers\n",
            "    \n",
            "    The following is a simple usage example that sums integers from the\n",
            "    command-line and writes the result to a file::\n",
            "    \n",
            "        parser = argparse.ArgumentParser(\n",
            "            description='sum the integers at the command line')\n",
            "        parser.add_argument(\n",
            "            'integers', metavar='int', nargs='+', type=int,\n",
            "            help='an integer to be summed')\n",
            "        parser.add_argument(\n",
            "            '--log', default=sys.stdout, type=argparse.FileType('w'),\n",
            "            help='the file where the sum should be written')\n",
            "        args = parser.parse_args()\n",
            "        args.log.write('%s' % sum(args.integers))\n",
            "        args.log.close()\n",
            "    \n",
            "    The module contains the following public classes:\n",
            "    \n",
            "        - ArgumentParser -- The main entry point for command-line parsing. As the\n",
            "            example above shows, the add_argument() method is used to populate\n",
            "            the parser with actions for optional and positional arguments. Then\n",
            "            the parse_args() method is invoked to convert the args at the\n",
            "            command-line into an object with attributes.\n",
            "    \n",
            "        - ArgumentError -- The exception raised by ArgumentParser objects when\n",
            "            there are errors with the parser's actions. Errors raised while\n",
            "            parsing the command-line are caught by ArgumentParser and emitted\n",
            "            as command-line messages.\n",
            "    \n",
            "        - FileType -- A factory for defining types of files to be created. As the\n",
            "            example above shows, instances of FileType are typically passed as\n",
            "            the type= argument of add_argument() calls.\n",
            "    \n",
            "        - Action -- The base class for parser actions. Typically actions are\n",
            "            selected by passing strings like 'store_true' or 'append_const' to\n",
            "            the action= argument of add_argument(). However, for greater\n",
            "            customization of ArgumentParser actions, subclasses of Action may\n",
            "            be defined and passed as the action= argument.\n",
            "    \n",
            "        - HelpFormatter, RawDescriptionHelpFormatter, RawTextHelpFormatter,\n",
            "            ArgumentDefaultsHelpFormatter -- Formatter classes which\n",
            "            may be passed as the formatter_class= argument to the\n",
            "            ArgumentParser constructor. HelpFormatter is the default,\n",
            "            RawDescriptionHelpFormatter and RawTextHelpFormatter tell the parser\n",
            "            not to change the formatting for help text, and\n",
            "            ArgumentDefaultsHelpFormatter adds information about argument defaults\n",
            "            to the help.\n",
            "    \n",
            "    All other classes in this module are considered implementation details.\n",
            "    (Also note that HelpFormatter and RawDescriptionHelpFormatter are only\n",
            "    considered public as object names -- the API of the formatter objects is\n",
            "    still considered an implementation detail.)\n",
            "\n",
            "CLASSES\n",
            "    _ActionsContainer(builtins.object)\n",
            "        ArgumentParser(_AttributeHolder, _ActionsContainer)\n",
            "    _AttributeHolder(builtins.object)\n",
            "        Action\n",
            "            BooleanOptionalAction\n",
            "        ArgumentParser(_AttributeHolder, _ActionsContainer)\n",
            "        Namespace\n",
            "    builtins.Exception(builtins.BaseException)\n",
            "        ArgumentError\n",
            "        ArgumentTypeError\n",
            "    builtins.object\n",
            "        FileType\n",
            "        HelpFormatter\n",
            "            ArgumentDefaultsHelpFormatter\n",
            "            MetavarTypeHelpFormatter\n",
            "            RawDescriptionHelpFormatter\n",
            "                RawTextHelpFormatter\n",
            "    \n",
            "    class Action(_AttributeHolder)\n",
            "     |  Action(option_strings, dest, nargs=None, const=None, default=None, type=None, choices=None, required=False, help=None, metavar=None)\n",
            "     |  \n",
            "     |  Information about how to convert command line strings to Python objects.\n",
            "     |  \n",
            "     |  Action objects are used by an ArgumentParser to represent the information\n",
            "     |  needed to parse a single argument from one or more strings from the\n",
            "     |  command line. The keyword arguments to the Action constructor are also\n",
            "     |  all attributes of Action instances.\n",
            "     |  \n",
            "     |  Keyword Arguments:\n",
            "     |  \n",
            "     |      - option_strings -- A list of command-line option strings which\n",
            "     |          should be associated with this action.\n",
            "     |  \n",
            "     |      - dest -- The name of the attribute to hold the created object(s)\n",
            "     |  \n",
            "     |      - nargs -- The number of command-line arguments that should be\n",
            "     |          consumed. By default, one argument will be consumed and a single\n",
            "     |          value will be produced.  Other values include:\n",
            "     |              - N (an integer) consumes N arguments (and produces a list)\n",
            "     |              - '?' consumes zero or one arguments\n",
            "     |              - '*' consumes zero or more arguments (and produces a list)\n",
            "     |              - '+' consumes one or more arguments (and produces a list)\n",
            "     |          Note that the difference between the default and nargs=1 is that\n",
            "     |          with the default, a single value will be produced, while with\n",
            "     |          nargs=1, a list containing a single value will be produced.\n",
            "     |  \n",
            "     |      - const -- The value to be produced if the option is specified and the\n",
            "     |          option uses an action that takes no values.\n",
            "     |  \n",
            "     |      - default -- The value to be produced if the option is not specified.\n",
            "     |  \n",
            "     |      - type -- A callable that accepts a single string argument, and\n",
            "     |          returns the converted value.  The standard Python types str, int,\n",
            "     |          float, and complex are useful examples of such callables.  If None,\n",
            "     |          str is used.\n",
            "     |  \n",
            "     |      - choices -- A container of values that should be allowed. If not None,\n",
            "     |          after a command-line argument has been converted to the appropriate\n",
            "     |          type, an exception will be raised if it is not a member of this\n",
            "     |          collection.\n",
            "     |  \n",
            "     |      - required -- True if the action must always be specified at the\n",
            "     |          command line. This is only meaningful for optional command-line\n",
            "     |          arguments.\n",
            "     |  \n",
            "     |      - help -- The help string describing the argument.\n",
            "     |  \n",
            "     |      - metavar -- The name to be used for the option's argument with the\n",
            "     |          help string. If None, the 'dest' value will be used as the name.\n",
            "     |  \n",
            "     |  Method resolution order:\n",
            "     |      Action\n",
            "     |      _AttributeHolder\n",
            "     |      builtins.object\n",
            "     |  \n",
            "     |  Methods defined here:\n",
            "     |  \n",
            "     |  __call__(self, parser, namespace, values, option_string=None)\n",
            "     |      Call self as a function.\n",
            "     |  \n",
            "     |  __init__(self, option_strings, dest, nargs=None, const=None, default=None, type=None, choices=None, required=False, help=None, metavar=None)\n",
            "     |      Initialize self.  See help(type(self)) for accurate signature.\n",
            "     |  \n",
            "     |  format_usage(self)\n",
            "     |  \n",
            "     |  ----------------------------------------------------------------------\n",
            "     |  Methods inherited from _AttributeHolder:\n",
            "     |  \n",
            "     |  __repr__(self)\n",
            "     |      Return repr(self).\n",
            "     |  \n",
            "     |  ----------------------------------------------------------------------\n",
            "     |  Data descriptors inherited from _AttributeHolder:\n",
            "     |  \n",
            "     |  __dict__\n",
            "     |      dictionary for instance variables (if defined)\n",
            "     |  \n",
            "     |  __weakref__\n",
            "     |      list of weak references to the object (if defined)\n",
            "    \n",
            "    class ArgumentDefaultsHelpFormatter(HelpFormatter)\n",
            "     |  ArgumentDefaultsHelpFormatter(prog, indent_increment=2, max_help_position=24, width=None)\n",
            "     |  \n",
            "     |  Help message formatter which adds default values to argument help.\n",
            "     |  \n",
            "     |  Only the name of this class is considered a public API. All the methods\n",
            "     |  provided by the class are considered an implementation detail.\n",
            "     |  \n",
            "     |  Method resolution order:\n",
            "     |      ArgumentDefaultsHelpFormatter\n",
            "     |      HelpFormatter\n",
            "     |      builtins.object\n",
            "     |  \n",
            "     |  Methods inherited from HelpFormatter:\n",
            "     |  \n",
            "     |  __init__(self, prog, indent_increment=2, max_help_position=24, width=None)\n",
            "     |      Initialize self.  See help(type(self)) for accurate signature.\n",
            "     |  \n",
            "     |  add_argument(self, action)\n",
            "     |  \n",
            "     |  add_arguments(self, actions)\n",
            "     |  \n",
            "     |  add_text(self, text)\n",
            "     |  \n",
            "     |  add_usage(self, usage, actions, groups, prefix=None)\n",
            "     |  \n",
            "     |  end_section(self)\n",
            "     |  \n",
            "     |  format_help(self)\n",
            "     |      # =======================\n",
            "     |      # Help-formatting methods\n",
            "     |      # =======================\n",
            "     |  \n",
            "     |  start_section(self, heading)\n",
            "     |      # ========================\n",
            "     |      # Message building methods\n",
            "     |      # ========================\n",
            "     |  \n",
            "     |  ----------------------------------------------------------------------\n",
            "     |  Data descriptors inherited from HelpFormatter:\n",
            "     |  \n",
            "     |  __dict__\n",
            "     |      dictionary for instance variables (if defined)\n",
            "     |  \n",
            "     |  __weakref__\n",
            "     |      list of weak references to the object (if defined)\n",
            "    \n",
            "    class ArgumentError(builtins.Exception)\n",
            "     |  ArgumentError(argument, message)\n",
            "     |  \n",
            "     |  An error from creating or using an argument (optional or positional).\n",
            "     |  \n",
            "     |  The string value of this exception is the message, augmented with\n",
            "     |  information about the argument that caused it.\n",
            "     |  \n",
            "     |  Method resolution order:\n",
            "     |      ArgumentError\n",
            "     |      builtins.Exception\n",
            "     |      builtins.BaseException\n",
            "     |      builtins.object\n",
            "     |  \n",
            "     |  Methods defined here:\n",
            "     |  \n",
            "     |  __init__(self, argument, message)\n",
            "     |      Initialize self.  See help(type(self)) for accurate signature.\n",
            "     |  \n",
            "     |  __str__(self)\n",
            "     |      Return str(self).\n",
            "     |  \n",
            "     |  ----------------------------------------------------------------------\n",
            "     |  Data descriptors defined here:\n",
            "     |  \n",
            "     |  __weakref__\n",
            "     |      list of weak references to the object (if defined)\n",
            "     |  \n",
            "     |  ----------------------------------------------------------------------\n",
            "     |  Static methods inherited from builtins.Exception:\n",
            "     |  \n",
            "     |  __new__(*args, **kwargs) from builtins.type\n",
            "     |      Create and return a new object.  See help(type) for accurate signature.\n",
            "     |  \n",
            "     |  ----------------------------------------------------------------------\n",
            "     |  Methods inherited from builtins.BaseException:\n",
            "     |  \n",
            "     |  __delattr__(self, name, /)\n",
            "     |      Implement delattr(self, name).\n",
            "     |  \n",
            "     |  __getattribute__(self, name, /)\n",
            "     |      Return getattr(self, name).\n",
            "     |  \n",
            "     |  __reduce__(...)\n",
            "     |      Helper for pickle.\n",
            "     |  \n",
            "     |  __repr__(self, /)\n",
            "     |      Return repr(self).\n",
            "     |  \n",
            "     |  __setattr__(self, name, value, /)\n",
            "     |      Implement setattr(self, name, value).\n",
            "     |  \n",
            "     |  __setstate__(...)\n",
            "     |  \n",
            "     |  with_traceback(...)\n",
            "     |      Exception.with_traceback(tb) --\n",
            "     |      set self.__traceback__ to tb and return self.\n",
            "     |  \n",
            "     |  ----------------------------------------------------------------------\n",
            "     |  Data descriptors inherited from builtins.BaseException:\n",
            "     |  \n",
            "     |  __cause__\n",
            "     |      exception cause\n",
            "     |  \n",
            "     |  __context__\n",
            "     |      exception context\n",
            "     |  \n",
            "     |  __dict__\n",
            "     |  \n",
            "     |  __suppress_context__\n",
            "     |  \n",
            "     |  __traceback__\n",
            "     |  \n",
            "     |  args\n",
            "    \n",
            "    class ArgumentParser(_AttributeHolder, _ActionsContainer)\n",
            "     |  ArgumentParser(prog=None, usage=None, description=None, epilog=None, parents=[], formatter_class=<class 'argparse.HelpFormatter'>, prefix_chars='-', fromfile_prefix_chars=None, argument_default=None, conflict_handler='error', add_help=True, allow_abbrev=True, exit_on_error=True)\n",
            "     |  \n",
            "     |  Object for parsing command line strings into Python objects.\n",
            "     |  \n",
            "     |  Keyword Arguments:\n",
            "     |      - prog -- The name of the program (default:\n",
            "     |          ``os.path.basename(sys.argv[0])``)\n",
            "     |      - usage -- A usage message (default: auto-generated from arguments)\n",
            "     |      - description -- A description of what the program does\n",
            "     |      - epilog -- Text following the argument descriptions\n",
            "     |      - parents -- Parsers whose arguments should be copied into this one\n",
            "     |      - formatter_class -- HelpFormatter class for printing help messages\n",
            "     |      - prefix_chars -- Characters that prefix optional arguments\n",
            "     |      - fromfile_prefix_chars -- Characters that prefix files containing\n",
            "     |          additional arguments\n",
            "     |      - argument_default -- The default value for all arguments\n",
            "     |      - conflict_handler -- String indicating how to handle conflicts\n",
            "     |      - add_help -- Add a -h/-help option\n",
            "     |      - allow_abbrev -- Allow long options to be abbreviated unambiguously\n",
            "     |      - exit_on_error -- Determines whether or not ArgumentParser exits with\n",
            "     |          error info when an error occurs\n",
            "     |  \n",
            "     |  Method resolution order:\n",
            "     |      ArgumentParser\n",
            "     |      _AttributeHolder\n",
            "     |      _ActionsContainer\n",
            "     |      builtins.object\n",
            "     |  \n",
            "     |  Methods defined here:\n",
            "     |  \n",
            "     |  __init__(self, prog=None, usage=None, description=None, epilog=None, parents=[], formatter_class=<class 'argparse.HelpFormatter'>, prefix_chars='-', fromfile_prefix_chars=None, argument_default=None, conflict_handler='error', add_help=True, allow_abbrev=True, exit_on_error=True)\n",
            "     |      Initialize self.  See help(type(self)) for accurate signature.\n",
            "     |  \n",
            "     |  add_subparsers(self, **kwargs)\n",
            "     |      # ==================================\n",
            "     |      # Optional/Positional adding methods\n",
            "     |      # ==================================\n",
            "     |  \n",
            "     |  convert_arg_line_to_args(self, arg_line)\n",
            "     |  \n",
            "     |  error(self, message)\n",
            "     |      error(message: string)\n",
            "     |      \n",
            "     |      Prints a usage message incorporating the message to stderr and\n",
            "     |      exits.\n",
            "     |      \n",
            "     |      If you override this in a subclass, it should not return -- it\n",
            "     |      should either exit or raise an exception.\n",
            "     |  \n",
            "     |  exit(self, status=0, message=None)\n",
            "     |      # ===============\n",
            "     |      # Exiting methods\n",
            "     |      # ===============\n",
            "     |  \n",
            "     |  format_help(self)\n",
            "     |  \n",
            "     |  format_usage(self)\n",
            "     |      # =======================\n",
            "     |      # Help-formatting methods\n",
            "     |      # =======================\n",
            "     |  \n",
            "     |  parse_args(self, args=None, namespace=None)\n",
            "     |      # =====================================\n",
            "     |      # Command line argument parsing methods\n",
            "     |      # =====================================\n",
            "     |  \n",
            "     |  parse_intermixed_args(self, args=None, namespace=None)\n",
            "     |  \n",
            "     |  parse_known_args(self, args=None, namespace=None)\n",
            "     |  \n",
            "     |  parse_known_intermixed_args(self, args=None, namespace=None)\n",
            "     |  \n",
            "     |  print_help(self, file=None)\n",
            "     |  \n",
            "     |  print_usage(self, file=None)\n",
            "     |      # =====================\n",
            "     |      # Help-printing methods\n",
            "     |      # =====================\n",
            "     |  \n",
            "     |  ----------------------------------------------------------------------\n",
            "     |  Methods inherited from _AttributeHolder:\n",
            "     |  \n",
            "     |  __repr__(self)\n",
            "     |      Return repr(self).\n",
            "     |  \n",
            "     |  ----------------------------------------------------------------------\n",
            "     |  Data descriptors inherited from _AttributeHolder:\n",
            "     |  \n",
            "     |  __dict__\n",
            "     |      dictionary for instance variables (if defined)\n",
            "     |  \n",
            "     |  __weakref__\n",
            "     |      list of weak references to the object (if defined)\n",
            "     |  \n",
            "     |  ----------------------------------------------------------------------\n",
            "     |  Methods inherited from _ActionsContainer:\n",
            "     |  \n",
            "     |  add_argument(self, *args, **kwargs)\n",
            "     |      add_argument(dest, ..., name=value, ...)\n",
            "     |      add_argument(option_string, option_string, ..., name=value, ...)\n",
            "     |  \n",
            "     |  add_argument_group(self, *args, **kwargs)\n",
            "     |  \n",
            "     |  add_mutually_exclusive_group(self, **kwargs)\n",
            "     |  \n",
            "     |  get_default(self, dest)\n",
            "     |  \n",
            "     |  register(self, registry_name, value, object)\n",
            "     |      # ====================\n",
            "     |      # Registration methods\n",
            "     |      # ====================\n",
            "     |  \n",
            "     |  set_defaults(self, **kwargs)\n",
            "     |      # ==================================\n",
            "     |      # Namespace default accessor methods\n",
            "     |      # ==================================\n",
            "    \n",
            "    class ArgumentTypeError(builtins.Exception)\n",
            "     |  An error from trying to convert a command line string to a type.\n",
            "     |  \n",
            "     |  Method resolution order:\n",
            "     |      ArgumentTypeError\n",
            "     |      builtins.Exception\n",
            "     |      builtins.BaseException\n",
            "     |      builtins.object\n",
            "     |  \n",
            "     |  Data descriptors defined here:\n",
            "     |  \n",
            "     |  __weakref__\n",
            "     |      list of weak references to the object (if defined)\n",
            "     |  \n",
            "     |  ----------------------------------------------------------------------\n",
            "     |  Methods inherited from builtins.Exception:\n",
            "     |  \n",
            "     |  __init__(self, /, *args, **kwargs)\n",
            "     |      Initialize self.  See help(type(self)) for accurate signature.\n",
            "     |  \n",
            "     |  ----------------------------------------------------------------------\n",
            "     |  Static methods inherited from builtins.Exception:\n",
            "     |  \n",
            "     |  __new__(*args, **kwargs) from builtins.type\n",
            "     |      Create and return a new object.  See help(type) for accurate signature.\n",
            "     |  \n",
            "     |  ----------------------------------------------------------------------\n",
            "     |  Methods inherited from builtins.BaseException:\n",
            "     |  \n",
            "     |  __delattr__(self, name, /)\n",
            "     |      Implement delattr(self, name).\n",
            "     |  \n",
            "     |  __getattribute__(self, name, /)\n",
            "     |      Return getattr(self, name).\n",
            "     |  \n",
            "     |  __reduce__(...)\n",
            "     |      Helper for pickle.\n",
            "     |  \n",
            "     |  __repr__(self, /)\n",
            "     |      Return repr(self).\n",
            "     |  \n",
            "     |  __setattr__(self, name, value, /)\n",
            "     |      Implement setattr(self, name, value).\n",
            "     |  \n",
            "     |  __setstate__(...)\n",
            "     |  \n",
            "     |  __str__(self, /)\n",
            "     |      Return str(self).\n",
            "     |  \n",
            "     |  with_traceback(...)\n",
            "     |      Exception.with_traceback(tb) --\n",
            "     |      set self.__traceback__ to tb and return self.\n",
            "     |  \n",
            "     |  ----------------------------------------------------------------------\n",
            "     |  Data descriptors inherited from builtins.BaseException:\n",
            "     |  \n",
            "     |  __cause__\n",
            "     |      exception cause\n",
            "     |  \n",
            "     |  __context__\n",
            "     |      exception context\n",
            "     |  \n",
            "     |  __dict__\n",
            "     |  \n",
            "     |  __suppress_context__\n",
            "     |  \n",
            "     |  __traceback__\n",
            "     |  \n",
            "     |  args\n",
            "    \n",
            "    class BooleanOptionalAction(Action)\n",
            "     |  BooleanOptionalAction(option_strings, dest, default=None, type=None, choices=None, required=False, help=None, metavar=None)\n",
            "     |  \n",
            "     |  Method resolution order:\n",
            "     |      BooleanOptionalAction\n",
            "     |      Action\n",
            "     |      _AttributeHolder\n",
            "     |      builtins.object\n",
            "     |  \n",
            "     |  Methods defined here:\n",
            "     |  \n",
            "     |  __call__(self, parser, namespace, values, option_string=None)\n",
            "     |      Call self as a function.\n",
            "     |  \n",
            "     |  __init__(self, option_strings, dest, default=None, type=None, choices=None, required=False, help=None, metavar=None)\n",
            "     |      Initialize self.  See help(type(self)) for accurate signature.\n",
            "     |  \n",
            "     |  format_usage(self)\n",
            "     |  \n",
            "     |  ----------------------------------------------------------------------\n",
            "     |  Methods inherited from _AttributeHolder:\n",
            "     |  \n",
            "     |  __repr__(self)\n",
            "     |      Return repr(self).\n",
            "     |  \n",
            "     |  ----------------------------------------------------------------------\n",
            "     |  Data descriptors inherited from _AttributeHolder:\n",
            "     |  \n",
            "     |  __dict__\n",
            "     |      dictionary for instance variables (if defined)\n",
            "     |  \n",
            "     |  __weakref__\n",
            "     |      list of weak references to the object (if defined)\n",
            "    \n",
            "    class FileType(builtins.object)\n",
            "     |  FileType(mode='r', bufsize=-1, encoding=None, errors=None)\n",
            "     |  \n",
            "     |  Factory for creating file object types\n",
            "     |  \n",
            "     |  Instances of FileType are typically passed as type= arguments to the\n",
            "     |  ArgumentParser add_argument() method.\n",
            "     |  \n",
            "     |  Keyword Arguments:\n",
            "     |      - mode -- A string indicating how the file is to be opened. Accepts the\n",
            "     |          same values as the builtin open() function.\n",
            "     |      - bufsize -- The file's desired buffer size. Accepts the same values as\n",
            "     |          the builtin open() function.\n",
            "     |      - encoding -- The file's encoding. Accepts the same values as the\n",
            "     |          builtin open() function.\n",
            "     |      - errors -- A string indicating how encoding and decoding errors are to\n",
            "     |          be handled. Accepts the same value as the builtin open() function.\n",
            "     |  \n",
            "     |  Methods defined here:\n",
            "     |  \n",
            "     |  __call__(self, string)\n",
            "     |      Call self as a function.\n",
            "     |  \n",
            "     |  __init__(self, mode='r', bufsize=-1, encoding=None, errors=None)\n",
            "     |      Initialize self.  See help(type(self)) for accurate signature.\n",
            "     |  \n",
            "     |  __repr__(self)\n",
            "     |      Return repr(self).\n",
            "     |  \n",
            "     |  ----------------------------------------------------------------------\n",
            "     |  Data descriptors defined here:\n",
            "     |  \n",
            "     |  __dict__\n",
            "     |      dictionary for instance variables (if defined)\n",
            "     |  \n",
            "     |  __weakref__\n",
            "     |      list of weak references to the object (if defined)\n",
            "    \n",
            "    class HelpFormatter(builtins.object)\n",
            "     |  HelpFormatter(prog, indent_increment=2, max_help_position=24, width=None)\n",
            "     |  \n",
            "     |  Formatter for generating usage messages and argument help strings.\n",
            "     |  \n",
            "     |  Only the name of this class is considered a public API. All the methods\n",
            "     |  provided by the class are considered an implementation detail.\n",
            "     |  \n",
            "     |  Methods defined here:\n",
            "     |  \n",
            "     |  __init__(self, prog, indent_increment=2, max_help_position=24, width=None)\n",
            "     |      Initialize self.  See help(type(self)) for accurate signature.\n",
            "     |  \n",
            "     |  add_argument(self, action)\n",
            "     |  \n",
            "     |  add_arguments(self, actions)\n",
            "     |  \n",
            "     |  add_text(self, text)\n",
            "     |  \n",
            "     |  add_usage(self, usage, actions, groups, prefix=None)\n",
            "     |  \n",
            "     |  end_section(self)\n",
            "     |  \n",
            "     |  format_help(self)\n",
            "     |      # =======================\n",
            "     |      # Help-formatting methods\n",
            "     |      # =======================\n",
            "     |  \n",
            "     |  start_section(self, heading)\n",
            "     |      # ========================\n",
            "     |      # Message building methods\n",
            "     |      # ========================\n",
            "     |  \n",
            "     |  ----------------------------------------------------------------------\n",
            "     |  Data descriptors defined here:\n",
            "     |  \n",
            "     |  __dict__\n",
            "     |      dictionary for instance variables (if defined)\n",
            "     |  \n",
            "     |  __weakref__\n",
            "     |      list of weak references to the object (if defined)\n",
            "    \n",
            "    class MetavarTypeHelpFormatter(HelpFormatter)\n",
            "     |  MetavarTypeHelpFormatter(prog, indent_increment=2, max_help_position=24, width=None)\n",
            "     |  \n",
            "     |  Help message formatter which uses the argument 'type' as the default\n",
            "     |  metavar value (instead of the argument 'dest')\n",
            "     |  \n",
            "     |  Only the name of this class is considered a public API. All the methods\n",
            "     |  provided by the class are considered an implementation detail.\n",
            "     |  \n",
            "     |  Method resolution order:\n",
            "     |      MetavarTypeHelpFormatter\n",
            "     |      HelpFormatter\n",
            "     |      builtins.object\n",
            "     |  \n",
            "     |  Methods inherited from HelpFormatter:\n",
            "     |  \n",
            "     |  __init__(self, prog, indent_increment=2, max_help_position=24, width=None)\n",
            "     |      Initialize self.  See help(type(self)) for accurate signature.\n",
            "     |  \n",
            "     |  add_argument(self, action)\n",
            "     |  \n",
            "     |  add_arguments(self, actions)\n",
            "     |  \n",
            "     |  add_text(self, text)\n",
            "     |  \n",
            "     |  add_usage(self, usage, actions, groups, prefix=None)\n",
            "     |  \n",
            "     |  end_section(self)\n",
            "     |  \n",
            "     |  format_help(self)\n",
            "     |      # =======================\n",
            "     |      # Help-formatting methods\n",
            "     |      # =======================\n",
            "     |  \n",
            "     |  start_section(self, heading)\n",
            "     |      # ========================\n",
            "     |      # Message building methods\n",
            "     |      # ========================\n",
            "     |  \n",
            "     |  ----------------------------------------------------------------------\n",
            "     |  Data descriptors inherited from HelpFormatter:\n",
            "     |  \n",
            "     |  __dict__\n",
            "     |      dictionary for instance variables (if defined)\n",
            "     |  \n",
            "     |  __weakref__\n",
            "     |      list of weak references to the object (if defined)\n",
            "    \n",
            "    class Namespace(_AttributeHolder)\n",
            "     |  Namespace(**kwargs)\n",
            "     |  \n",
            "     |  Simple object for storing attributes.\n",
            "     |  \n",
            "     |  Implements equality by attribute names and values, and provides a simple\n",
            "     |  string representation.\n",
            "     |  \n",
            "     |  Method resolution order:\n",
            "     |      Namespace\n",
            "     |      _AttributeHolder\n",
            "     |      builtins.object\n",
            "     |  \n",
            "     |  Methods defined here:\n",
            "     |  \n",
            "     |  __contains__(self, key)\n",
            "     |  \n",
            "     |  __eq__(self, other)\n",
            "     |      Return self==value.\n",
            "     |  \n",
            "     |  __init__(self, **kwargs)\n",
            "     |      Initialize self.  See help(type(self)) for accurate signature.\n",
            "     |  \n",
            "     |  ----------------------------------------------------------------------\n",
            "     |  Data and other attributes defined here:\n",
            "     |  \n",
            "     |  __hash__ = None\n",
            "     |  \n",
            "     |  ----------------------------------------------------------------------\n",
            "     |  Methods inherited from _AttributeHolder:\n",
            "     |  \n",
            "     |  __repr__(self)\n",
            "     |      Return repr(self).\n",
            "     |  \n",
            "     |  ----------------------------------------------------------------------\n",
            "     |  Data descriptors inherited from _AttributeHolder:\n",
            "     |  \n",
            "     |  __dict__\n",
            "     |      dictionary for instance variables (if defined)\n",
            "     |  \n",
            "     |  __weakref__\n",
            "     |      list of weak references to the object (if defined)\n",
            "    \n",
            "    class RawDescriptionHelpFormatter(HelpFormatter)\n",
            "     |  RawDescriptionHelpFormatter(prog, indent_increment=2, max_help_position=24, width=None)\n",
            "     |  \n",
            "     |  Help message formatter which retains any formatting in descriptions.\n",
            "     |  \n",
            "     |  Only the name of this class is considered a public API. All the methods\n",
            "     |  provided by the class are considered an implementation detail.\n",
            "     |  \n",
            "     |  Method resolution order:\n",
            "     |      RawDescriptionHelpFormatter\n",
            "     |      HelpFormatter\n",
            "     |      builtins.object\n",
            "     |  \n",
            "     |  Methods inherited from HelpFormatter:\n",
            "     |  \n",
            "     |  __init__(self, prog, indent_increment=2, max_help_position=24, width=None)\n",
            "     |      Initialize self.  See help(type(self)) for accurate signature.\n",
            "     |  \n",
            "     |  add_argument(self, action)\n",
            "     |  \n",
            "     |  add_arguments(self, actions)\n",
            "     |  \n",
            "     |  add_text(self, text)\n",
            "     |  \n",
            "     |  add_usage(self, usage, actions, groups, prefix=None)\n",
            "     |  \n",
            "     |  end_section(self)\n",
            "     |  \n",
            "     |  format_help(self)\n",
            "     |      # =======================\n",
            "     |      # Help-formatting methods\n",
            "     |      # =======================\n",
            "     |  \n",
            "     |  start_section(self, heading)\n",
            "     |      # ========================\n",
            "     |      # Message building methods\n",
            "     |      # ========================\n",
            "     |  \n",
            "     |  ----------------------------------------------------------------------\n",
            "     |  Data descriptors inherited from HelpFormatter:\n",
            "     |  \n",
            "     |  __dict__\n",
            "     |      dictionary for instance variables (if defined)\n",
            "     |  \n",
            "     |  __weakref__\n",
            "     |      list of weak references to the object (if defined)\n",
            "    \n",
            "    class RawTextHelpFormatter(RawDescriptionHelpFormatter)\n",
            "     |  RawTextHelpFormatter(prog, indent_increment=2, max_help_position=24, width=None)\n",
            "     |  \n",
            "     |  Help message formatter which retains formatting of all help text.\n",
            "     |  \n",
            "     |  Only the name of this class is considered a public API. All the methods\n",
            "     |  provided by the class are considered an implementation detail.\n",
            "     |  \n",
            "     |  Method resolution order:\n",
            "     |      RawTextHelpFormatter\n",
            "     |      RawDescriptionHelpFormatter\n",
            "     |      HelpFormatter\n",
            "     |      builtins.object\n",
            "     |  \n",
            "     |  Methods inherited from HelpFormatter:\n",
            "     |  \n",
            "     |  __init__(self, prog, indent_increment=2, max_help_position=24, width=None)\n",
            "     |      Initialize self.  See help(type(self)) for accurate signature.\n",
            "     |  \n",
            "     |  add_argument(self, action)\n",
            "     |  \n",
            "     |  add_arguments(self, actions)\n",
            "     |  \n",
            "     |  add_text(self, text)\n",
            "     |  \n",
            "     |  add_usage(self, usage, actions, groups, prefix=None)\n",
            "     |  \n",
            "     |  end_section(self)\n",
            "     |  \n",
            "     |  format_help(self)\n",
            "     |      # =======================\n",
            "     |      # Help-formatting methods\n",
            "     |      # =======================\n",
            "     |  \n",
            "     |  start_section(self, heading)\n",
            "     |      # ========================\n",
            "     |      # Message building methods\n",
            "     |      # ========================\n",
            "     |  \n",
            "     |  ----------------------------------------------------------------------\n",
            "     |  Data descriptors inherited from HelpFormatter:\n",
            "     |  \n",
            "     |  __dict__\n",
            "     |      dictionary for instance variables (if defined)\n",
            "     |  \n",
            "     |  __weakref__\n",
            "     |      list of weak references to the object (if defined)\n",
            "\n",
            "DATA\n",
            "    ONE_OR_MORE = '+'\n",
            "    OPTIONAL = '?'\n",
            "    PARSER = 'A...'\n",
            "    REMAINDER = '...'\n",
            "    SUPPRESS = '==SUPPRESS=='\n",
            "    ZERO_OR_MORE = '*'\n",
            "    __all__ = ['ArgumentParser', 'ArgumentError', 'ArgumentTypeError', 'Bo...\n",
            "\n",
            "VERSION\n",
            "    1.1\n",
            "\n",
            "FILE\n",
            "    /usr/lib/python3.10/argparse.py\n",
            "\n",
            "\n"
          ]
        }
      ]
    },
    {
      "cell_type": "code",
      "source": [
        "import sys"
      ],
      "metadata": {
        "id": "ueDNfJ1MlfT_"
      },
      "execution_count": 53,
      "outputs": []
    },
    {
      "cell_type": "code",
      "source": [
        "sys.path"
      ],
      "metadata": {
        "colab": {
          "base_uri": "https://localhost:8080/"
        },
        "id": "s1erWWYtlgUa",
        "outputId": "877a75f9-0658-4086-ae9f-55466b13beb7"
      },
      "execution_count": 54,
      "outputs": [
        {
          "output_type": "execute_result",
          "data": {
            "text/plain": [
              "['/content',\n",
              " '/env/python',\n",
              " '/usr/lib/python310.zip',\n",
              " '/usr/lib/python3.10',\n",
              " '/usr/lib/python3.10/lib-dynload',\n",
              " '',\n",
              " '/usr/local/lib/python3.10/dist-packages',\n",
              " '/usr/lib/python3/dist-packages',\n",
              " '/usr/local/lib/python3.10/dist-packages/IPython/extensions',\n",
              " '/root/.ipython']"
            ]
          },
          "metadata": {},
          "execution_count": 54
        }
      ]
    },
    {
      "cell_type": "code",
      "source": [
        "sys.path.append(\"/this pc/new volume(E)/Stupen_Batch-5\")"
      ],
      "metadata": {
        "id": "LCY7h9ypu5Ze"
      },
      "execution_count": 55,
      "outputs": []
    },
    {
      "cell_type": "code",
      "source": [
        "sys.path"
      ],
      "metadata": {
        "colab": {
          "base_uri": "https://localhost:8080/"
        },
        "id": "M2vJkoRIwx5L",
        "outputId": "977d9513-0cfc-4d98-cb5e-e304f52ed762"
      },
      "execution_count": 56,
      "outputs": [
        {
          "output_type": "execute_result",
          "data": {
            "text/plain": [
              "['/content',\n",
              " '/env/python',\n",
              " '/usr/lib/python310.zip',\n",
              " '/usr/lib/python3.10',\n",
              " '/usr/lib/python3.10/lib-dynload',\n",
              " '',\n",
              " '/usr/local/lib/python3.10/dist-packages',\n",
              " '/usr/lib/python3/dist-packages',\n",
              " '/usr/local/lib/python3.10/dist-packages/IPython/extensions',\n",
              " '/root/.ipython',\n",
              " '/this pc/new volume(E)/Stupen_Batch-5']"
            ]
          },
          "metadata": {},
          "execution_count": 56
        }
      ]
    },
    {
      "cell_type": "code",
      "source": [
        "import mod"
      ],
      "metadata": {
        "id": "PufWoOFyw3LF"
      },
      "execution_count": 57,
      "outputs": []
    },
    {
      "cell_type": "code",
      "source": [
        "mod.__file__"
      ],
      "metadata": {
        "colab": {
          "base_uri": "https://localhost:8080/",
          "height": 36
        },
        "id": "s3veRgqXw6iZ",
        "outputId": "0fc21284-ae86-48da-cffb-6989d08930f6"
      },
      "execution_count": 58,
      "outputs": [
        {
          "output_type": "execute_result",
          "data": {
            "text/plain": [
              "'/content/mod.py'"
            ],
            "application/vnd.google.colaboratory.intrinsic+json": {
              "type": "string"
            }
          },
          "metadata": {},
          "execution_count": 58
        }
      ]
    },
    {
      "cell_type": "markdown",
      "source": [
        "# **Import**"
      ],
      "metadata": {
        "id": "78D6qUvWxHOZ"
      }
    },
    {
      "cell_type": "code",
      "source": [
        "import mod"
      ],
      "metadata": {
        "id": "QNnzms8axaT5"
      },
      "execution_count": 59,
      "outputs": []
    },
    {
      "cell_type": "code",
      "source": [
        "mod.s"
      ],
      "metadata": {
        "colab": {
          "base_uri": "https://localhost:8080/",
          "height": 36
        },
        "id": "T8WQ1YWtxerB",
        "outputId": "d0c99f00-c587-4b10-c56e-9c693a3c380a"
      },
      "execution_count": 60,
      "outputs": [
        {
          "output_type": "execute_result",
          "data": {
            "text/plain": [
              "'Hacktiv8-PTP Python For Data Science'"
            ],
            "application/vnd.google.colaboratory.intrinsic+json": {
              "type": "string"
            }
          },
          "metadata": {},
          "execution_count": 60
        }
      ]
    },
    {
      "cell_type": "code",
      "source": [
        "from mod import s"
      ],
      "metadata": {
        "id": "Pv7xeY5Sxiy2"
      },
      "execution_count": 61,
      "outputs": []
    },
    {
      "cell_type": "code",
      "source": [
        "s"
      ],
      "metadata": {
        "colab": {
          "base_uri": "https://localhost:8080/",
          "height": 36
        },
        "id": "McM2RCs7xlu0",
        "outputId": "7d974d2b-a9e1-4b91-a2ab-32deb764661c"
      },
      "execution_count": 62,
      "outputs": [
        {
          "output_type": "execute_result",
          "data": {
            "text/plain": [
              "'Hacktiv8-PTP Python For Data Science'"
            ],
            "application/vnd.google.colaboratory.intrinsic+json": {
              "type": "string"
            }
          },
          "metadata": {},
          "execution_count": 62
        }
      ]
    },
    {
      "cell_type": "code",
      "source": [
        "from mod import s, foo"
      ],
      "metadata": {
        "id": "aBzS77oixoT3"
      },
      "execution_count": 63,
      "outputs": []
    },
    {
      "cell_type": "code",
      "source": [
        "s"
      ],
      "metadata": {
        "colab": {
          "base_uri": "https://localhost:8080/",
          "height": 36
        },
        "id": "kplUogx4xpMZ",
        "outputId": "d7090750-e133-42b6-8230-db33ba6bcc53"
      },
      "execution_count": 64,
      "outputs": [
        {
          "output_type": "execute_result",
          "data": {
            "text/plain": [
              "'Hacktiv8-PTP Python For Data Science'"
            ],
            "application/vnd.google.colaboratory.intrinsic+json": {
              "type": "string"
            }
          },
          "metadata": {},
          "execution_count": 64
        }
      ]
    },
    {
      "cell_type": "code",
      "source": [
        "foo(5)"
      ],
      "metadata": {
        "colab": {
          "base_uri": "https://localhost:8080/"
        },
        "id": "ARgHrYuQxsWB",
        "outputId": "9ebc8df9-19a8-4150-b8dd-9f86b16fb1c3"
      },
      "execution_count": 65,
      "outputs": [
        {
          "output_type": "stream",
          "name": "stdout",
          "text": [
            "arg = 5\n"
          ]
        }
      ]
    },
    {
      "cell_type": "code",
      "source": [
        "# sebaiknya jangan\n",
        "from mod import *"
      ],
      "metadata": {
        "id": "JJyTdjKmxte_"
      },
      "execution_count": 66,
      "outputs": []
    },
    {
      "cell_type": "code",
      "source": [
        "from mod import s, a, foo"
      ],
      "metadata": {
        "id": "jMdyKB_bxxEk"
      },
      "execution_count": 67,
      "outputs": []
    },
    {
      "cell_type": "code",
      "source": [
        "a"
      ],
      "metadata": {
        "colab": {
          "base_uri": "https://localhost:8080/"
        },
        "id": "1l5YNiPPxyGK",
        "outputId": "a3779a53-436d-4922-b8c2-d128c1c2a7a1"
      },
      "execution_count": 68,
      "outputs": [
        {
          "output_type": "execute_result",
          "data": {
            "text/plain": [
              "[100, 200, 300]"
            ]
          },
          "metadata": {},
          "execution_count": 68
        }
      ]
    },
    {
      "cell_type": "code",
      "source": [
        "ac = \"hallo\""
      ],
      "metadata": {
        "id": "LNCM4arlxz-r"
      },
      "execution_count": 69,
      "outputs": []
    },
    {
      "cell_type": "code",
      "source": [
        "a"
      ],
      "metadata": {
        "colab": {
          "base_uri": "https://localhost:8080/"
        },
        "id": "u3wo7z4nx6Gt",
        "outputId": "e9326b86-a8ca-494e-8af3-267c13d6741f"
      },
      "execution_count": 70,
      "outputs": [
        {
          "output_type": "execute_result",
          "data": {
            "text/plain": [
              "[100, 200, 300]"
            ]
          },
          "metadata": {},
          "execution_count": 70
        }
      ]
    },
    {
      "cell_type": "code",
      "source": [
        "import sys\n",
        "sys.path.append('/this pc/new volume(E)/Stupen_Batch-5/')"
      ],
      "metadata": {
        "id": "fCO556Epx71p"
      },
      "execution_count": 71,
      "outputs": []
    },
    {
      "cell_type": "code",
      "source": [
        "from mod import s as statement"
      ],
      "metadata": {
        "id": "wnMJHI0ux-8U"
      },
      "execution_count": 72,
      "outputs": []
    },
    {
      "cell_type": "code",
      "source": [
        "statement"
      ],
      "metadata": {
        "colab": {
          "base_uri": "https://localhost:8080/",
          "height": 36
        },
        "id": "HOhkjxnIyRLZ",
        "outputId": "f91f3f6a-7180-434f-e5e4-dc4e237cfee3"
      },
      "execution_count": 73,
      "outputs": [
        {
          "output_type": "execute_result",
          "data": {
            "text/plain": [
              "'Hacktiv8-PTP Python For Data Science'"
            ],
            "application/vnd.google.colaboratory.intrinsic+json": {
              "type": "string"
            }
          },
          "metadata": {},
          "execution_count": 73
        }
      ]
    },
    {
      "cell_type": "code",
      "source": [
        "import mod\n",
        "import mod as modif\n",
        "from mod import s\n",
        "from mod import foo as f"
      ],
      "metadata": {
        "id": "i1upyMVQyVmF"
      },
      "execution_count": 74,
      "outputs": []
    },
    {
      "cell_type": "code",
      "source": [
        "from argparse import ArgumentTypeError"
      ],
      "metadata": {
        "id": "uc3ANMK_yXnq"
      },
      "execution_count": 75,
      "outputs": []
    },
    {
      "cell_type": "code",
      "source": [
        "def bar():\n",
        "    from mod import foo\n",
        "    foo(\"corge\")\n",
        "\n",
        "bar()"
      ],
      "metadata": {
        "colab": {
          "base_uri": "https://localhost:8080/"
        },
        "id": "8OlCHb-1yZ3_",
        "outputId": "70545b57-1b0c-4e46-f2f0-019e7ccfd1f8"
      },
      "execution_count": 76,
      "outputs": [
        {
          "output_type": "stream",
          "name": "stdout",
          "text": [
            "arg = corge\n"
          ]
        }
      ]
    },
    {
      "cell_type": "code",
      "source": [
        "dir(mod)"
      ],
      "metadata": {
        "colab": {
          "base_uri": "https://localhost:8080/"
        },
        "id": "BfuOpNgWydNr",
        "outputId": "88ac135c-6da3-4504-eaaa-2019ff9ab27b"
      },
      "execution_count": 77,
      "outputs": [
        {
          "output_type": "execute_result",
          "data": {
            "text/plain": [
              "['Foo',\n",
              " '__builtins__',\n",
              " '__cached__',\n",
              " '__doc__',\n",
              " '__file__',\n",
              " '__loader__',\n",
              " '__name__',\n",
              " '__package__',\n",
              " '__spec__',\n",
              " 'a',\n",
              " 'foo',\n",
              " 's']"
            ]
          },
          "metadata": {},
          "execution_count": 77
        }
      ]
    },
    {
      "cell_type": "code",
      "source": [
        "s.__contains__(\"o\")"
      ],
      "metadata": {
        "colab": {
          "base_uri": "https://localhost:8080/"
        },
        "id": "W6o6joEOyv8G",
        "outputId": "985f0166-4697-4920-c5c4-aa60ae34d344"
      },
      "execution_count": 78,
      "outputs": [
        {
          "output_type": "execute_result",
          "data": {
            "text/plain": [
              "True"
            ]
          },
          "metadata": {},
          "execution_count": 78
        }
      ]
    },
    {
      "cell_type": "code",
      "source": [
        "\"o\" in s"
      ],
      "metadata": {
        "colab": {
          "base_uri": "https://localhost:8080/"
        },
        "id": "8YTMtAaEyzxM",
        "outputId": "ea6034e3-c9b2-430e-bdd8-be4dba8f2e8d"
      },
      "execution_count": 79,
      "outputs": [
        {
          "output_type": "execute_result",
          "data": {
            "text/plain": [
              "True"
            ]
          },
          "metadata": {},
          "execution_count": 79
        }
      ]
    },
    {
      "cell_type": "code",
      "source": [
        "dir(s)"
      ],
      "metadata": {
        "colab": {
          "base_uri": "https://localhost:8080/"
        },
        "id": "gfcPs7a3y31-",
        "outputId": "77e00711-2448-457e-cab9-1d1d8b578880"
      },
      "execution_count": 80,
      "outputs": [
        {
          "output_type": "execute_result",
          "data": {
            "text/plain": [
              "['__add__',\n",
              " '__class__',\n",
              " '__contains__',\n",
              " '__delattr__',\n",
              " '__dir__',\n",
              " '__doc__',\n",
              " '__eq__',\n",
              " '__format__',\n",
              " '__ge__',\n",
              " '__getattribute__',\n",
              " '__getitem__',\n",
              " '__getnewargs__',\n",
              " '__gt__',\n",
              " '__hash__',\n",
              " '__init__',\n",
              " '__init_subclass__',\n",
              " '__iter__',\n",
              " '__le__',\n",
              " '__len__',\n",
              " '__lt__',\n",
              " '__mod__',\n",
              " '__mul__',\n",
              " '__ne__',\n",
              " '__new__',\n",
              " '__reduce__',\n",
              " '__reduce_ex__',\n",
              " '__repr__',\n",
              " '__rmod__',\n",
              " '__rmul__',\n",
              " '__setattr__',\n",
              " '__sizeof__',\n",
              " '__str__',\n",
              " '__subclasshook__',\n",
              " 'capitalize',\n",
              " 'casefold',\n",
              " 'center',\n",
              " 'count',\n",
              " 'encode',\n",
              " 'endswith',\n",
              " 'expandtabs',\n",
              " 'find',\n",
              " 'format',\n",
              " 'format_map',\n",
              " 'index',\n",
              " 'isalnum',\n",
              " 'isalpha',\n",
              " 'isascii',\n",
              " 'isdecimal',\n",
              " 'isdigit',\n",
              " 'isidentifier',\n",
              " 'islower',\n",
              " 'isnumeric',\n",
              " 'isprintable',\n",
              " 'isspace',\n",
              " 'istitle',\n",
              " 'isupper',\n",
              " 'join',\n",
              " 'ljust',\n",
              " 'lower',\n",
              " 'lstrip',\n",
              " 'maketrans',\n",
              " 'partition',\n",
              " 'removeprefix',\n",
              " 'removesuffix',\n",
              " 'replace',\n",
              " 'rfind',\n",
              " 'rindex',\n",
              " 'rjust',\n",
              " 'rpartition',\n",
              " 'rsplit',\n",
              " 'rstrip',\n",
              " 'split',\n",
              " 'splitlines',\n",
              " 'startswith',\n",
              " 'strip',\n",
              " 'swapcase',\n",
              " 'title',\n",
              " 'translate',\n",
              " 'upper',\n",
              " 'zfill']"
            ]
          },
          "metadata": {},
          "execution_count": 80
        }
      ]
    },
    {
      "cell_type": "code",
      "source": [
        "import mod"
      ],
      "metadata": {
        "id": "-WUFWCM4y9I5"
      },
      "execution_count": 81,
      "outputs": []
    },
    {
      "cell_type": "code",
      "source": [
        "dir(mod)"
      ],
      "metadata": {
        "colab": {
          "base_uri": "https://localhost:8080/"
        },
        "id": "Pq4-wUk3y-VT",
        "outputId": "aa1e682c-d8bf-477d-b1fa-28b02c0754f5"
      },
      "execution_count": 82,
      "outputs": [
        {
          "output_type": "execute_result",
          "data": {
            "text/plain": [
              "['Foo',\n",
              " '__builtins__',\n",
              " '__cached__',\n",
              " '__doc__',\n",
              " '__file__',\n",
              " '__loader__',\n",
              " '__name__',\n",
              " '__package__',\n",
              " '__spec__',\n",
              " 'a',\n",
              " 'foo',\n",
              " 's']"
            ]
          },
          "metadata": {},
          "execution_count": 82
        }
      ]
    },
    {
      "cell_type": "code",
      "source": [
        "import sys\n",
        "sys.path.append('/this pc/new volume(E)/Stupen_Batch-5/')"
      ],
      "metadata": {
        "id": "zyBZCdiIzDRk"
      },
      "execution_count": 83,
      "outputs": []
    },
    {
      "cell_type": "code",
      "source": [
        "import mod"
      ],
      "metadata": {
        "id": "Esp25ToLzG8d"
      },
      "execution_count": 84,
      "outputs": []
    },
    {
      "cell_type": "code",
      "source": [
        "dir(mod)"
      ],
      "metadata": {
        "colab": {
          "base_uri": "https://localhost:8080/"
        },
        "id": "jDoopX_szWc_",
        "outputId": "1d294b86-824c-424f-838a-6e1ccd5abcf4"
      },
      "execution_count": 85,
      "outputs": [
        {
          "output_type": "execute_result",
          "data": {
            "text/plain": [
              "['Foo',\n",
              " '__builtins__',\n",
              " '__cached__',\n",
              " '__doc__',\n",
              " '__file__',\n",
              " '__loader__',\n",
              " '__name__',\n",
              " '__package__',\n",
              " '__spec__',\n",
              " 'a',\n",
              " 'foo',\n",
              " 's']"
            ]
          },
          "metadata": {},
          "execution_count": 85
        }
      ]
    },
    {
      "cell_type": "code",
      "source": [
        "import fact"
      ],
      "metadata": {
        "id": "eqiD6uJezdyU"
      },
      "execution_count": 86,
      "outputs": []
    },
    {
      "cell_type": "code",
      "source": [
        "fact.fact(4)"
      ],
      "metadata": {
        "colab": {
          "base_uri": "https://localhost:8080/"
        },
        "id": "m7imfqrezevZ",
        "outputId": "482b719d-15b0-451a-9d12-9c0444e029b0"
      },
      "execution_count": 87,
      "outputs": [
        {
          "output_type": "execute_result",
          "data": {
            "text/plain": [
              "24"
            ]
          },
          "metadata": {},
          "execution_count": 87
        }
      ]
    },
    {
      "cell_type": "markdown",
      "source": [
        "# **Reloading Module**"
      ],
      "metadata": {
        "id": "xjArB2QDz350"
      }
    },
    {
      "cell_type": "code",
      "source": [
        "a = [100, 200, 300]\n",
        "print(\"a =\", a)"
      ],
      "metadata": {
        "colab": {
          "base_uri": "https://localhost:8080/"
        },
        "id": "Q6oy2Hvvz-F3",
        "outputId": "80cef715-207c-4f56-e18a-1e1110a4c674"
      },
      "execution_count": 88,
      "outputs": [
        {
          "output_type": "stream",
          "name": "stdout",
          "text": [
            "a = [100, 200, 300]\n"
          ]
        }
      ]
    },
    {
      "cell_type": "code",
      "source": [
        "import mod"
      ],
      "metadata": {
        "id": "9c4m2bt99vYf"
      },
      "execution_count": 89,
      "outputs": []
    },
    {
      "cell_type": "code",
      "source": [
        "mod.a"
      ],
      "metadata": {
        "colab": {
          "base_uri": "https://localhost:8080/"
        },
        "id": "lEAwrO0G0L9l",
        "outputId": "aa817fe4-ebb3-430e-c18d-8552711e5501"
      },
      "execution_count": 90,
      "outputs": [
        {
          "output_type": "execute_result",
          "data": {
            "text/plain": [
              "[100, 200, 300]"
            ]
          },
          "metadata": {},
          "execution_count": 90
        }
      ]
    },
    {
      "cell_type": "code",
      "source": [
        "import importlib"
      ],
      "metadata": {
        "id": "lCZ3t5nS0Td0"
      },
      "execution_count": 91,
      "outputs": []
    },
    {
      "cell_type": "code",
      "source": [
        "importlib.reload(mod)"
      ],
      "metadata": {
        "colab": {
          "base_uri": "https://localhost:8080/"
        },
        "id": "trDjvXRA0UfR",
        "outputId": "4f41b44d-07cc-4e38-9d7f-4d4cefafbfd4"
      },
      "execution_count": 92,
      "outputs": [
        {
          "output_type": "execute_result",
          "data": {
            "text/plain": [
              "<module 'mod' from '/content/mod.py'>"
            ]
          },
          "metadata": {},
          "execution_count": 92
        }
      ]
    },
    {
      "cell_type": "code",
      "source": [
        "mod.a"
      ],
      "metadata": {
        "colab": {
          "base_uri": "https://localhost:8080/"
        },
        "id": "2b06FQdM-BZQ",
        "outputId": "f4cd733d-868a-4bcc-e537-96a345bb605b"
      },
      "execution_count": 93,
      "outputs": [
        {
          "output_type": "execute_result",
          "data": {
            "text/plain": [
              "[100, 200, 300]"
            ]
          },
          "metadata": {},
          "execution_count": 93
        }
      ]
    },
    {
      "cell_type": "code",
      "source": [
        "dir(importlib)"
      ],
      "metadata": {
        "colab": {
          "base_uri": "https://localhost:8080/"
        },
        "id": "2yPCmT4h0ZHm",
        "outputId": "d5183335-9cd5-4a48-ac74-cfe78bed1477"
      },
      "execution_count": 94,
      "outputs": [
        {
          "output_type": "execute_result",
          "data": {
            "text/plain": [
              "['_RELOADING',\n",
              " '__all__',\n",
              " '__builtins__',\n",
              " '__cached__',\n",
              " '__doc__',\n",
              " '__file__',\n",
              " '__import__',\n",
              " '__loader__',\n",
              " '__name__',\n",
              " '__package__',\n",
              " '__path__',\n",
              " '__spec__',\n",
              " '_abc',\n",
              " '_adapters',\n",
              " '_bootstrap',\n",
              " '_bootstrap_external',\n",
              " '_common',\n",
              " '_imp',\n",
              " '_pack_uint32',\n",
              " '_unpack_uint32',\n",
              " 'abc',\n",
              " 'find_loader',\n",
              " 'import_module',\n",
              " 'invalidate_caches',\n",
              " 'machinery',\n",
              " 'metadata',\n",
              " 'readers',\n",
              " 'reload',\n",
              " 'resources',\n",
              " 'sys',\n",
              " 'util',\n",
              " 'warnings']"
            ]
          },
          "metadata": {},
          "execution_count": 94
        }
      ]
    },
    {
      "cell_type": "code",
      "source": [
        "import sys\n",
        "sys.path"
      ],
      "metadata": {
        "colab": {
          "base_uri": "https://localhost:8080/"
        },
        "id": "WTLPAdNi0fkJ",
        "outputId": "c15d5e19-d565-4b2f-bd00-3ffa15b434fc"
      },
      "execution_count": 95,
      "outputs": [
        {
          "output_type": "execute_result",
          "data": {
            "text/plain": [
              "['/content',\n",
              " '/env/python',\n",
              " '/usr/lib/python310.zip',\n",
              " '/usr/lib/python3.10',\n",
              " '/usr/lib/python3.10/lib-dynload',\n",
              " '',\n",
              " '/usr/local/lib/python3.10/dist-packages',\n",
              " '/usr/lib/python3/dist-packages',\n",
              " '/usr/local/lib/python3.10/dist-packages/IPython/extensions',\n",
              " '/root/.ipython',\n",
              " '/this pc/new volume(E)/Stupen_Batch-5',\n",
              " '/this pc/new volume(E)/Stupen_Batch-5/',\n",
              " '/this pc/new volume(E)/Stupen_Batch-5/']"
            ]
          },
          "metadata": {},
          "execution_count": 95
        }
      ]
    },
    {
      "cell_type": "code",
      "source": [
        "import mod1, mod2"
      ],
      "metadata": {
        "id": "1M9_O1DA0mhD"
      },
      "execution_count": 96,
      "outputs": []
    },
    {
      "cell_type": "code",
      "source": [
        "mod1.foo()\n",
        "mod2.bar()"
      ],
      "metadata": {
        "colab": {
          "base_uri": "https://localhost:8080/"
        },
        "id": "rwrgPSYb-Qtf",
        "outputId": "67e033a8-0df8-49d7-9d41-2e76276f9393"
      },
      "execution_count": 97,
      "outputs": [
        {
          "output_type": "stream",
          "name": "stdout",
          "text": [
            "[mod1] foo()\n",
            "[mod2] bar()\n"
          ]
        }
      ]
    },
    {
      "cell_type": "code",
      "source": [
        "import mod1\n",
        "\n",
        "mod1.foo()"
      ],
      "metadata": {
        "colab": {
          "base_uri": "https://localhost:8080/"
        },
        "id": "sssoexJz-dfC",
        "outputId": "8dc9c35f-1b75-409a-a14a-a2b366446084"
      },
      "execution_count": 98,
      "outputs": [
        {
          "output_type": "stream",
          "name": "stdout",
          "text": [
            "[mod1] foo()\n"
          ]
        }
      ]
    },
    {
      "cell_type": "code",
      "source": [
        "import mod2 as quux"
      ],
      "metadata": {
        "id": "H3mWlI0GB0eM"
      },
      "execution_count": 99,
      "outputs": []
    },
    {
      "cell_type": "code",
      "source": [
        "dir(mod2)"
      ],
      "metadata": {
        "colab": {
          "base_uri": "https://localhost:8080/"
        },
        "id": "KGBhLLoaB5cs",
        "outputId": "d4f42097-a7ec-413d-a64e-5e436efd0b3f"
      },
      "execution_count": 100,
      "outputs": [
        {
          "output_type": "execute_result",
          "data": {
            "text/plain": [
              "['Bar',\n",
              " '__builtins__',\n",
              " '__cached__',\n",
              " '__doc__',\n",
              " '__file__',\n",
              " '__loader__',\n",
              " '__name__',\n",
              " '__package__',\n",
              " '__spec__',\n",
              " 'bar']"
            ]
          },
          "metadata": {},
          "execution_count": 100
        }
      ]
    },
    {
      "cell_type": "code",
      "source": [
        "dir(quux)"
      ],
      "metadata": {
        "colab": {
          "base_uri": "https://localhost:8080/"
        },
        "id": "qo2lZdSGB9O6",
        "outputId": "b9e74951-b9eb-4b1b-a5d3-466d9000de5f"
      },
      "execution_count": 101,
      "outputs": [
        {
          "output_type": "execute_result",
          "data": {
            "text/plain": [
              "['Bar',\n",
              " '__builtins__',\n",
              " '__cached__',\n",
              " '__doc__',\n",
              " '__file__',\n",
              " '__loader__',\n",
              " '__name__',\n",
              " '__package__',\n",
              " '__spec__',\n",
              " 'bar']"
            ]
          },
          "metadata": {},
          "execution_count": 101
        }
      ]
    },
    {
      "cell_type": "code",
      "source": [
        "mod2.bar()\n",
        "quux.bar()"
      ],
      "metadata": {
        "colab": {
          "base_uri": "https://localhost:8080/"
        },
        "id": "jlpUA13ZB_mz",
        "outputId": "9e089545-8146-4518-a5eb-526627accb54"
      },
      "execution_count": 102,
      "outputs": [
        {
          "output_type": "stream",
          "name": "stdout",
          "text": [
            "[mod2] bar()\n",
            "[mod2] bar()\n"
          ]
        }
      ]
    },
    {
      "cell_type": "code",
      "source": [
        "!pip --version"
      ],
      "metadata": {
        "colab": {
          "base_uri": "https://localhost:8080/"
        },
        "id": "cAGXNgTqCLid",
        "outputId": "88421dc9-0c90-490b-8cb4-e71b6885e783"
      },
      "execution_count": 103,
      "outputs": [
        {
          "output_type": "stream",
          "name": "stdout",
          "text": [
            "pip 23.1.2 from /usr/local/lib/python3.10/dist-packages/pip (python 3.10)\n"
          ]
        }
      ]
    },
    {
      "cell_type": "code",
      "source": [
        "!pip install --user requests"
      ],
      "metadata": {
        "colab": {
          "base_uri": "https://localhost:8080/"
        },
        "id": "21KLPSG6CPTA",
        "outputId": "2bd72d2e-17a7-49ed-aa13-85befa6f67bd"
      },
      "execution_count": 104,
      "outputs": [
        {
          "output_type": "stream",
          "name": "stdout",
          "text": [
            "Requirement already satisfied: requests in /usr/local/lib/python3.10/dist-packages (2.31.0)\n",
            "Requirement already satisfied: charset-normalizer<4,>=2 in /usr/local/lib/python3.10/dist-packages (from requests) (3.3.2)\n",
            "Requirement already satisfied: idna<4,>=2.5 in /usr/local/lib/python3.10/dist-packages (from requests) (3.6)\n",
            "Requirement already satisfied: urllib3<3,>=1.21.1 in /usr/local/lib/python3.10/dist-packages (from requests) (2.0.7)\n",
            "Requirement already satisfied: certifi>=2017.4.17 in /usr/local/lib/python3.10/dist-packages (from requests) (2023.11.17)\n"
          ]
        }
      ]
    },
    {
      "cell_type": "code",
      "source": [
        "!pip freeze > requirements.txt"
      ],
      "metadata": {
        "id": "YXiKpzuZCO9_"
      },
      "execution_count": 105,
      "outputs": []
    },
    {
      "cell_type": "code",
      "source": [
        "!pip install --user -r requirements.txt"
      ],
      "metadata": {
        "id": "YU3bNZduCfYR"
      },
      "execution_count": null,
      "outputs": []
    },
    {
      "cell_type": "code",
      "source": [
        "!pip uninstall"
      ],
      "metadata": {
        "id": "alRcOqu6CjjJ"
      },
      "execution_count": null,
      "outputs": []
    }
  ]
}