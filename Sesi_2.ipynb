{
  "nbformat": 4,
  "nbformat_minor": 0,
  "metadata": {
    "colab": {
      "provenance": [],
      "authorship_tag": "ABX9TyMtQZqlI2y7otDxMZ5Vh6cl",
      "include_colab_link": true
    },
    "kernelspec": {
      "name": "python3",
      "display_name": "Python 3"
    },
    "language_info": {
      "name": "python"
    }
  },
  "cells": [
    {
      "cell_type": "markdown",
      "metadata": {
        "id": "view-in-github",
        "colab_type": "text"
      },
      "source": [
        "<a href=\"https://colab.research.google.com/github/DITHAAAA/Stupen_Batch5/blob/main/Sesi_2.ipynb\" target=\"_parent\"><img src=\"https://colab.research.google.com/assets/colab-badge.svg\" alt=\"Open In Colab\"/></a>"
      ]
    },
    {
      "cell_type": "markdown",
      "source": [
        "    If condition:\n",
        "        action statement\n",
        "\n",
        "Cuma jalan, jika condition == True"
      ],
      "metadata": {
        "id": "rICFHq1pTzzg"
      }
    },
    {
      "cell_type": "code",
      "source": [
        "if True:\n",
        "    print(\"Code ini jalan\")"
      ],
      "metadata": {
        "colab": {
          "base_uri": "https://localhost:8080/"
        },
        "id": "rEFFyOHnUNKa",
        "outputId": "03e3b7ac-6760-4c24-8c63-30fd55d6f6f5"
      },
      "execution_count": 1,
      "outputs": [
        {
          "output_type": "stream",
          "name": "stdout",
          "text": [
            "Code ini jalan\n"
          ]
        }
      ]
    },
    {
      "cell_type": "code",
      "source": [
        "if False:\n",
        "    print(\"Code ini ga jalan\")"
      ],
      "metadata": {
        "id": "SwSi5QtYUZTZ"
      },
      "execution_count": 2,
      "outputs": []
    },
    {
      "cell_type": "code",
      "source": [
        "if \"saya\" in \"Saya mau makan\":\n",
        "    print(\"iya, makan\")"
      ],
      "metadata": {
        "id": "YH2jN_S1UZ-q"
      },
      "execution_count": 3,
      "outputs": []
    },
    {
      "cell_type": "code",
      "source": [
        "x = 5\n",
        "y = 0\n",
        "\n",
        "if x > y:\n",
        "    print(\"jalan 1\")\n",
        "\n",
        "if x < y:\n",
        "    print(\"jalan 2\")\n",
        "\n",
        "# Kalau bukan 0, angka itu di nilai True\n",
        "if x:\n",
        "    print(\"jalan 3\")\n",
        "\n",
        "if y:\n",
        "    print(\"jalan 4\")\n",
        "\n",
        "if y != 0:\n",
        "    print(\"jalan 4.5\")\n",
        "\n",
        "# Kalau ada string, di nilai True\n",
        "# Kalau empty string, di nilai False\n",
        "\n",
        "if \"\":\n",
        "    print(\"jalan 5\")\n",
        "\n",
        "if \"ada\":\n",
        "    print(\"jalan 6\")"
      ],
      "metadata": {
        "colab": {
          "base_uri": "https://localhost:8080/"
        },
        "id": "tRTGPDGbUjHU",
        "outputId": "07885dee-f6c3-4bac-9185-813e8a625499"
      },
      "execution_count": 4,
      "outputs": [
        {
          "output_type": "stream",
          "name": "stdout",
          "text": [
            "jalan 1\n",
            "jalan 3\n",
            "jalan 6\n"
          ]
        }
      ]
    },
    {
      "cell_type": "code",
      "source": [
        "if False:\n",
        "    print(\"ga jalan\")\n",
        "\n",
        "    print(\"code block di dalem if\")\n",
        "print(\"code di luar if\")"
      ],
      "metadata": {
        "colab": {
          "base_uri": "https://localhost:8080/"
        },
        "id": "LrvOxufjUqRQ",
        "outputId": "1f223ab5-4281-4814-f876-1f9edd8de364"
      },
      "execution_count": 5,
      "outputs": [
        {
          "output_type": "stream",
          "name": "stdout",
          "text": [
            "code di luar if\n"
          ]
        }
      ]
    },
    {
      "cell_type": "code",
      "source": [
        "# Blok kode bisa bersarang\n",
        "if True:\n",
        "    print(\"jalan 1\")\n",
        "    if True:\n",
        "        print(\"jalan 2\")"
      ],
      "metadata": {
        "colab": {
          "base_uri": "https://localhost:8080/"
        },
        "id": "ZT8AKihWU_9r",
        "outputId": "718a6bab-f0c3-4af3-cfad-912688693003"
      },
      "execution_count": 6,
      "outputs": [
        {
          "output_type": "stream",
          "name": "stdout",
          "text": [
            "jalan 1\n",
            "jalan 2\n"
          ]
        }
      ]
    },
    {
      "cell_type": "code",
      "source": [
        "if \"foo\" in [\"foo\", \"bar\", \"baz\"]:\n",
        "    print(\"outer cond benar\")  # Jalan\n",
        "\n",
        "    if 10 > 20:\n",
        "        print(\"inner cond 1\")  # Tidak jalan\n",
        "\n",
        "    if 10 < 20:\n",
        "        print(\"inner cond 2\")  # Jalan\n",
        "\n",
        "        if \"o\" in \"foo\":\n",
        "            print(\"inner cond lv 2\")  # Jalan\n",
        "\n",
        "    print(\"outer cond selesai\")  # Jalan\n",
        "\n",
        "print(\"di luar cond\")  # Jalan"
      ],
      "metadata": {
        "colab": {
          "base_uri": "https://localhost:8080/"
        },
        "id": "Rb_CrocVVc36",
        "outputId": "67239891-c411-4ec3-886a-5541968e96ab"
      },
      "execution_count": 7,
      "outputs": [
        {
          "output_type": "stream",
          "name": "stdout",
          "text": [
            "outer cond benar\n",
            "inner cond 2\n",
            "inner cond lv 2\n",
            "outer cond selesai\n",
            "di luar cond\n"
          ]
        }
      ]
    },
    {
      "cell_type": "code",
      "source": [
        "if True:\n",
        "    print(\"cond 1\")\n",
        "else:\n",
        "    print(\"alternatif 1\")\n",
        "print(\"langsung ke sini\")"
      ],
      "metadata": {
        "colab": {
          "base_uri": "https://localhost:8080/"
        },
        "id": "v9Lvq8UtVt_-",
        "outputId": "5db78a88-e14d-43de-ab16-da43c4217c58"
      },
      "execution_count": 8,
      "outputs": [
        {
          "output_type": "stream",
          "name": "stdout",
          "text": [
            "cond 1\n",
            "langsung ke sini\n"
          ]
        }
      ]
    },
    {
      "cell_type": "code",
      "source": [
        "if False:\n",
        "    print(\"cond 1\")\n",
        "else:\n",
        "    print(\"alternatif 1\")"
      ],
      "metadata": {
        "colab": {
          "base_uri": "https://localhost:8080/"
        },
        "id": "XXWrMFk5V0M9",
        "outputId": "0ecf5a6f-05ba-4a20-f328-354e010d6086"
      },
      "execution_count": 9,
      "outputs": [
        {
          "output_type": "stream",
          "name": "stdout",
          "text": [
            "alternatif 1\n"
          ]
        }
      ]
    },
    {
      "cell_type": "code",
      "source": [
        "x = 20\n",
        "\n",
        "if x < 50:\n",
        "    print(\"(first suite)\")\n",
        "    print(\"x is small\")\n",
        "else:\n",
        "    print(\"(second suite)\")\n",
        "    print(\"x is large\")"
      ],
      "metadata": {
        "colab": {
          "base_uri": "https://localhost:8080/"
        },
        "id": "Fhwx5MNnV3Yf",
        "outputId": "6cf1cbb8-4c01-4640-fcf5-03baaf6fc2a9"
      },
      "execution_count": 10,
      "outputs": [
        {
          "output_type": "stream",
          "name": "stdout",
          "text": [
            "(first suite)\n",
            "x is small\n"
          ]
        }
      ]
    },
    {
      "cell_type": "code",
      "source": [
        "x = 60\n",
        "\n",
        "if x < 50:\n",
        "    print(\"(first suite)\")\n",
        "    print(\"x is small\")\n",
        "else:\n",
        "    print(\"(second suite)\")\n",
        "    print(\"x is large\")"
      ],
      "metadata": {
        "colab": {
          "base_uri": "https://localhost:8080/"
        },
        "id": "r5qvqAzLV6SI",
        "outputId": "70fa9c8d-aabb-4b5a-8b5c-1a16d276ca8e"
      },
      "execution_count": 11,
      "outputs": [
        {
          "output_type": "stream",
          "name": "stdout",
          "text": [
            "(second suite)\n",
            "x is large\n"
          ]
        }
      ]
    },
    {
      "cell_type": "code",
      "source": [
        "harga_buku = 20000\n",
        "harga_majalah = 5000\n",
        "uang = 2000\n",
        "\n",
        "if uang > harga_buku:\n",
        "    print(\"beli buku\")\n",
        "else:\n",
        "    print(\"uang ga cukup\")"
      ],
      "metadata": {
        "colab": {
          "base_uri": "https://localhost:8080/"
        },
        "id": "WbH-ZGLAV9qY",
        "outputId": "09ea20ac-89a4-4c77-a8f0-c64feb20d75c"
      },
      "execution_count": 12,
      "outputs": [
        {
          "output_type": "stream",
          "name": "stdout",
          "text": [
            "uang ga cukup\n"
          ]
        }
      ]
    },
    {
      "cell_type": "code",
      "source": [
        "harga_buku = 20000\n",
        "harga_majalah = 5000\n",
        "uang = 1000\n",
        "\n",
        "if uang > harga_buku:\n",
        "    print(\"beli buku\")\n",
        "elif uang > harga_majalah:\n",
        "    print(\"beli majalah\")\n",
        "else:\n",
        "    print(\"uang ga cukup\")\n",
        "print(\"selalu jalan\")"
      ],
      "metadata": {
        "colab": {
          "base_uri": "https://localhost:8080/"
        },
        "id": "y_lRtiq4WC-s",
        "outputId": "7e8bbec5-7027-4a38-ba93-3d63b324449d"
      },
      "execution_count": 13,
      "outputs": [
        {
          "output_type": "stream",
          "name": "stdout",
          "text": [
            "uang ga cukup\n",
            "selalu jalan\n"
          ]
        }
      ]
    },
    {
      "cell_type": "code",
      "source": [
        "if \"a\" in \"bar\":  # True\n",
        "    print(\"foo\");\n",
        "elif 1/0:\n",
        "    print(\"ga jalan\");\n",
        "elif var:\n",
        "    print(\"ga jalan\");"
      ],
      "metadata": {
        "colab": {
          "base_uri": "https://localhost:8080/"
        },
        "id": "_2ABpGemWF-O",
        "outputId": "9293fae3-32fe-442a-e997-757a707583bc"
      },
      "execution_count": 14,
      "outputs": [
        {
          "output_type": "stream",
          "name": "stdout",
          "text": [
            "foo\n"
          ]
        }
      ]
    },
    {
      "cell_type": "code",
      "source": [
        "if True: print(\"cond 1\"); print(\"cond 2\");"
      ],
      "metadata": {
        "colab": {
          "base_uri": "https://localhost:8080/"
        },
        "id": "RN65e2uVWG5k",
        "outputId": "0e0c7bad-1a61-4da0-bad0-b4ef0c050e4f"
      },
      "execution_count": 15,
      "outputs": [
        {
          "output_type": "stream",
          "name": "stdout",
          "text": [
            "cond 1\n",
            "cond 2\n"
          ]
        }
      ]
    },
    {
      "cell_type": "code",
      "source": [
        "if \"f\" in \"foo\": print(\"1\"); print(\"2\"); print(\"3\")"
      ],
      "metadata": {
        "colab": {
          "base_uri": "https://localhost:8080/"
        },
        "id": "R3paMhtlWKD0",
        "outputId": "7264c032-8242-4e31-dfd7-3e5653a6bd2c"
      },
      "execution_count": 16,
      "outputs": [
        {
          "output_type": "stream",
          "name": "stdout",
          "text": [
            "1\n",
            "2\n",
            "3\n"
          ]
        }
      ]
    },
    {
      "cell_type": "code",
      "source": [
        "if \"z\" in \"foo\": print(\"1\"); print(\"2\"); print(\"3\")"
      ],
      "metadata": {
        "id": "TF5HHmZ5WM-F"
      },
      "execution_count": 17,
      "outputs": []
    },
    {
      "cell_type": "code",
      "source": [
        "if False: print(\"alternatif 1\")\n",
        "elif False: print(\"alternatif 2\")\n",
        "else: print(\"alternatif 3\")"
      ],
      "metadata": {
        "colab": {
          "base_uri": "https://localhost:8080/"
        },
        "id": "nPcM8oGmWQ4_",
        "outputId": "a8d6c936-c2b8-4feb-8fd6-35c830331af3"
      },
      "execution_count": 18,
      "outputs": [
        {
          "output_type": "stream",
          "name": "stdout",
          "text": [
            "alternatif 3\n"
          ]
        }
      ]
    },
    {
      "cell_type": "code",
      "source": [
        "x = 2\n",
        "if x == 1: print(\"alternatif 1.1\"); print(\"alternatif 1.2\"); print(\"alternatif 1.3\")\n",
        "elif x == 2: print(\"alternatif 2.1\"); print(\"alternatif 2.2\")\n",
        "else: print(\"alternatif 3\")"
      ],
      "metadata": {
        "colab": {
          "base_uri": "https://localhost:8080/"
        },
        "id": "0_EJuIbVWTJA",
        "outputId": "8d69e02a-01cf-45a7-d685-beab8453168c"
      },
      "execution_count": 19,
      "outputs": [
        {
          "output_type": "stream",
          "name": "stdout",
          "text": [
            "alternatif 2.1\n",
            "alternatif 2.2\n"
          ]
        }
      ]
    },
    {
      "cell_type": "code",
      "source": [
        "x = 2\n",
        "if x == 1:\n",
        "    print(\"alternatif 1.1\")\n",
        "    print(\"alternatif 1.2\")\n",
        "    print(\"alternatif 1.3\")\n",
        "elif x == 2:\n",
        "    print(\"alternatif 2.1\")\n",
        "    print(\"alternatif 2.2\")\n",
        "else:\n",
        "    print(\"alternatif 3\")"
      ],
      "metadata": {
        "colab": {
          "base_uri": "https://localhost:8080/"
        },
        "id": "r2Z9pbeIWVZr",
        "outputId": "08236518-34e1-4755-ca24-041df51c07e4"
      },
      "execution_count": 20,
      "outputs": [
        {
          "output_type": "stream",
          "name": "stdout",
          "text": [
            "alternatif 2.1\n",
            "alternatif 2.2\n"
          ]
        }
      ]
    },
    {
      "cell_type": "markdown",
      "source": [
        "# **Ternary**"
      ],
      "metadata": {
        "id": "oKpOdf4HWX99"
      }
    },
    {
      "cell_type": "code",
      "source": [
        "raining = False\n",
        "print(\"Let's go to the\", \"beach\" if not raining else \"library\")"
      ],
      "metadata": {
        "colab": {
          "base_uri": "https://localhost:8080/"
        },
        "id": "bjWANFIgWcVf",
        "outputId": "44d87d58-975b-4106-c068-16017c004b09"
      },
      "execution_count": 21,
      "outputs": [
        {
          "output_type": "stream",
          "name": "stdout",
          "text": [
            "Let's go to the beach\n"
          ]
        }
      ]
    },
    {
      "cell_type": "code",
      "source": [
        "raining = True\n",
        "print(\"Let's go to the\", \"beach\" if not raining else \"library\")"
      ],
      "metadata": {
        "colab": {
          "base_uri": "https://localhost:8080/"
        },
        "id": "JDQXi0AhWfvT",
        "outputId": "bcbdd999-2165-4313-c2c5-b009ca156896"
      },
      "execution_count": 22,
      "outputs": [
        {
          "output_type": "stream",
          "name": "stdout",
          "text": [
            "Let's go to the library\n"
          ]
        }
      ]
    },
    {
      "cell_type": "code",
      "source": [
        "\"a\" if False else \"b\""
      ],
      "metadata": {
        "colab": {
          "base_uri": "https://localhost:8080/",
          "height": 36
        },
        "id": "1hzBgx6jWjES",
        "outputId": "4abec997-f47b-4b4d-a427-9825fdaa4557"
      },
      "execution_count": 23,
      "outputs": [
        {
          "output_type": "execute_result",
          "data": {
            "text/plain": [
              "'b'"
            ],
            "application/vnd.google.colaboratory.intrinsic+json": {
              "type": "string"
            }
          },
          "metadata": {},
          "execution_count": 23
        }
      ]
    },
    {
      "cell_type": "code",
      "source": [
        "age = 12\n",
        "s = \"teen\" if age < 21 else \"adult\"\n",
        "s"
      ],
      "metadata": {
        "colab": {
          "base_uri": "https://localhost:8080/",
          "height": 36
        },
        "id": "1A1NUzG_WlZU",
        "outputId": "c8e9c944-b900-4d1a-ae82-b1f9f0b68462"
      },
      "execution_count": 24,
      "outputs": [
        {
          "output_type": "execute_result",
          "data": {
            "text/plain": [
              "'teen'"
            ],
            "application/vnd.google.colaboratory.intrinsic+json": {
              "type": "string"
            }
          },
          "metadata": {},
          "execution_count": 24
        }
      ]
    },
    {
      "cell_type": "code",
      "source": [
        "age = 24\n",
        "s = \"teen\" if age < 21 else \"adult\"\n",
        "s"
      ],
      "metadata": {
        "colab": {
          "base_uri": "https://localhost:8080/",
          "height": 36
        },
        "id": "31u6E-5TWowT",
        "outputId": "3bf9d0cf-f0b7-4074-df1f-25b08c5f9446"
      },
      "execution_count": 25,
      "outputs": [
        {
          "output_type": "execute_result",
          "data": {
            "text/plain": [
              "'adult'"
            ],
            "application/vnd.google.colaboratory.intrinsic+json": {
              "type": "string"
            }
          },
          "metadata": {},
          "execution_count": 25
        }
      ]
    },
    {
      "cell_type": "code",
      "source": [
        "age = 12\n",
        "if age < 21:\n",
        "    s = \"teen\"\n",
        "else:\n",
        "    s = \"adult\"\n",
        "s"
      ],
      "metadata": {
        "colab": {
          "base_uri": "https://localhost:8080/",
          "height": 36
        },
        "id": "xNf_hRfyWulO",
        "outputId": "18714151-3680-4481-fea8-46dabcafb6bf"
      },
      "execution_count": 26,
      "outputs": [
        {
          "output_type": "execute_result",
          "data": {
            "text/plain": [
              "'teen'"
            ],
            "application/vnd.google.colaboratory.intrinsic+json": {
              "type": "string"
            }
          },
          "metadata": {},
          "execution_count": 26
        }
      ]
    },
    {
      "cell_type": "markdown",
      "source": [
        "# **Pass**"
      ],
      "metadata": {
        "id": "YMEqKGyeWxQm"
      }
    },
    {
      "cell_type": "code",
      "source": [
        "if True:\n",
        "    print(\"cond 1\")"
      ],
      "metadata": {
        "colab": {
          "base_uri": "https://localhost:8080/"
        },
        "id": "_l0LEFVSW1NC",
        "outputId": "dd73a2e7-ce7a-42d6-a4df-525516770348"
      },
      "execution_count": 27,
      "outputs": [
        {
          "output_type": "stream",
          "name": "stdout",
          "text": [
            "cond 1\n"
          ]
        }
      ]
    },
    {
      "cell_type": "code",
      "source": [
        "if True:\n",
        "    pass  # ga ngapa2in\n",
        "print(\"foo\")"
      ],
      "metadata": {
        "colab": {
          "base_uri": "https://localhost:8080/"
        },
        "id": "QRIy1Ek6W4DW",
        "outputId": "29efe52d-391d-41e6-85a0-94e811df84d9"
      },
      "execution_count": 28,
      "outputs": [
        {
          "output_type": "stream",
          "name": "stdout",
          "text": [
            "foo\n"
          ]
        }
      ]
    },
    {
      "cell_type": "markdown",
      "source": [
        "# **While Loop**"
      ],
      "metadata": {
        "id": "vBRZ93xXW7JD"
      }
    },
    {
      "cell_type": "code",
      "source": [
        "print(1)\n",
        "print(2)\n",
        "print(3)\n",
        "print(4)\n",
        "print(5)\n",
        "print(6)\n",
        "print(7)\n",
        "print(8)\n",
        "print(9)\n",
        "print(10)"
      ],
      "metadata": {
        "colab": {
          "base_uri": "https://localhost:8080/"
        },
        "id": "w1vUVIIfW_EV",
        "outputId": "06376913-ede9-4954-8d40-74483db9d991"
      },
      "execution_count": 29,
      "outputs": [
        {
          "output_type": "stream",
          "name": "stdout",
          "text": [
            "1\n",
            "2\n",
            "3\n",
            "4\n",
            "5\n",
            "6\n",
            "7\n",
            "8\n",
            "9\n",
            "10\n"
          ]
        }
      ]
    },
    {
      "cell_type": "code",
      "source": [
        "n = 5\n",
        "while n > 0:\n",
        "    print(\"terus\")\n",
        "    n -= 1\n",
        "    print(n)"
      ],
      "metadata": {
        "colab": {
          "base_uri": "https://localhost:8080/"
        },
        "id": "faZG2GWbXB3D",
        "outputId": "51b50daf-3b20-4faf-f567-15e10d4cffd6"
      },
      "execution_count": 30,
      "outputs": [
        {
          "output_type": "stream",
          "name": "stdout",
          "text": [
            "terus\n",
            "4\n",
            "terus\n",
            "3\n",
            "terus\n",
            "2\n",
            "terus\n",
            "1\n",
            "terus\n",
            "0\n"
          ]
        }
      ]
    },
    {
      "cell_type": "code",
      "source": [
        "n = 1\n",
        "while n < 11:\n",
        "    print(n)\n",
        "    n += 1\n",
        "print(\"stop\")"
      ],
      "metadata": {
        "colab": {
          "base_uri": "https://localhost:8080/"
        },
        "id": "_xkGE3I0XEdF",
        "outputId": "b19008fb-1a61-48d8-f9fc-fe07c3643b0a"
      },
      "execution_count": 31,
      "outputs": [
        {
          "output_type": "stream",
          "name": "stdout",
          "text": [
            "1\n",
            "2\n",
            "3\n",
            "4\n",
            "5\n",
            "6\n",
            "7\n",
            "8\n",
            "9\n",
            "10\n",
            "stop\n"
          ]
        }
      ]
    },
    {
      "cell_type": "markdown",
      "source": [
        "# **Bread and Continue**"
      ],
      "metadata": {
        "id": "69J5eY_EXKqQ"
      }
    },
    {
      "cell_type": "code",
      "source": [
        "while True:\n",
        "    print(\"di dalem while\")\n",
        "    break\n",
        "print(\"di luar while\")"
      ],
      "metadata": {
        "colab": {
          "base_uri": "https://localhost:8080/"
        },
        "id": "sPPC-PDPXGTt",
        "outputId": "d1b0c411-5605-42f0-e8fe-2c885c8c9d19"
      },
      "execution_count": 32,
      "outputs": [
        {
          "output_type": "stream",
          "name": "stdout",
          "text": [
            "di dalem while\n",
            "di luar while\n"
          ]
        }
      ]
    },
    {
      "cell_type": "code",
      "source": [
        "n = 0\n",
        "while n < 5:\n",
        "    n += 1\n",
        "    print(n)\n",
        "print(\"n terakhir\", n)\n",
        "print(\"stop\")"
      ],
      "metadata": {
        "colab": {
          "base_uri": "https://localhost:8080/"
        },
        "id": "9AIjqW1QXGQH",
        "outputId": "317c522d-7c6c-4b38-c4e7-2d5a26b54208"
      },
      "execution_count": 33,
      "outputs": [
        {
          "output_type": "stream",
          "name": "stdout",
          "text": [
            "1\n",
            "2\n",
            "3\n",
            "4\n",
            "5\n",
            "n terakhir 5\n",
            "stop\n"
          ]
        }
      ]
    },
    {
      "cell_type": "code",
      "source": [
        "n = 0\n",
        "while n < 5:\n",
        "    n += 1\n",
        "    if n == 3:\n",
        "        break\n",
        "    print(n)\n",
        "print(\"n terakhir\", n)\n",
        "print(\"stop\")"
      ],
      "metadata": {
        "colab": {
          "base_uri": "https://localhost:8080/"
        },
        "id": "FSXjtiX1XF_3",
        "outputId": "9bc93937-5399-4660-aa4c-eb6a401481ec"
      },
      "execution_count": 34,
      "outputs": [
        {
          "output_type": "stream",
          "name": "stdout",
          "text": [
            "1\n",
            "2\n",
            "n terakhir 3\n",
            "stop\n"
          ]
        }
      ]
    },
    {
      "cell_type": "code",
      "source": [
        "n = 0\n",
        "while n < 5:\n",
        "    n += 1\n",
        "    if n == 3:\n",
        "        continue\n",
        "    print(n)\n",
        "print(\"n terakhir\", n)\n",
        "print(\"stop\")"
      ],
      "metadata": {
        "colab": {
          "base_uri": "https://localhost:8080/"
        },
        "id": "XijE6_7NXF9V",
        "outputId": "ac7db40d-5f90-436b-f64e-0082ec623845"
      },
      "execution_count": 35,
      "outputs": [
        {
          "output_type": "stream",
          "name": "stdout",
          "text": [
            "1\n",
            "2\n",
            "4\n",
            "5\n",
            "n terakhir 5\n",
            "stop\n"
          ]
        }
      ]
    },
    {
      "cell_type": "code",
      "source": [
        "n = 0\n",
        "while True:\n",
        "    n+=1\n",
        "    if n == 5:\n",
        "        break\n",
        "    print(n)\n",
        "print(\"n terakhir\", n)\n",
        "print(\"stop\")"
      ],
      "metadata": {
        "colab": {
          "base_uri": "https://localhost:8080/"
        },
        "id": "gny9mf7tXF6y",
        "outputId": "a15e65bd-b725-4d16-b799-1ba23f1819f9"
      },
      "execution_count": 36,
      "outputs": [
        {
          "output_type": "stream",
          "name": "stdout",
          "text": [
            "1\n",
            "2\n",
            "3\n",
            "4\n",
            "n terakhir 5\n",
            "stop\n"
          ]
        }
      ]
    },
    {
      "cell_type": "code",
      "source": [
        "n = 0\n",
        "while n < 5:\n",
        "    n += 1\n",
        "    print(n)\n",
        "else:\n",
        "    print(\"stop\")"
      ],
      "metadata": {
        "colab": {
          "base_uri": "https://localhost:8080/"
        },
        "id": "Ukl4PoxTXF2q",
        "outputId": "55c05ec2-b2c0-4755-d251-8d8dfaab340c"
      },
      "execution_count": 37,
      "outputs": [
        {
          "output_type": "stream",
          "name": "stdout",
          "text": [
            "1\n",
            "2\n",
            "3\n",
            "4\n",
            "5\n",
            "stop\n"
          ]
        }
      ]
    },
    {
      "cell_type": "code",
      "source": [
        "n = 0\n",
        "while n < 5:\n",
        "    n += 1\n",
        "    if n == 3:\n",
        "        break\n",
        "    print(n)\n",
        "else:\n",
        "    print(\"stop\")"
      ],
      "metadata": {
        "colab": {
          "base_uri": "https://localhost:8080/"
        },
        "id": "sv0-etTuXFzC",
        "outputId": "4abeb488-445c-4862-fdef-0dd948f1e10f"
      },
      "execution_count": 38,
      "outputs": [
        {
          "output_type": "stream",
          "name": "stdout",
          "text": [
            "1\n",
            "2\n"
          ]
        }
      ]
    },
    {
      "cell_type": "markdown",
      "source": [
        "# **Truthy and Falsy**"
      ],
      "metadata": {
        "id": "A2o1BjcDXlEi"
      }
    },
    {
      "cell_type": "code",
      "source": [
        "print(bool(True))\n",
        "print(bool(False))\n",
        "\n",
        "print(\"=\" * 8)\n",
        "\n",
        "print(bool(\"a\"))\n",
        "print(bool(\"\"))\n",
        "\n",
        "print(\"=\" * 8)\n",
        "\n",
        "print(bool(5))\n",
        "print(bool(0))\n",
        "\n",
        "print(\"=\" * 8)\n",
        "\n",
        "print(bool([\"a\", \"b\"]))\n",
        "print(bool([]))\n",
        "\n",
        "print(\"=\" * 8)\n",
        "\n",
        "print(bool(None))"
      ],
      "metadata": {
        "colab": {
          "base_uri": "https://localhost:8080/"
        },
        "id": "YDm70iPAXFtL",
        "outputId": "5c2799dc-9950-4bb9-ea1d-426be1d792d3"
      },
      "execution_count": 39,
      "outputs": [
        {
          "output_type": "stream",
          "name": "stdout",
          "text": [
            "True\n",
            "False\n",
            "========\n",
            "True\n",
            "False\n",
            "========\n",
            "True\n",
            "False\n",
            "========\n",
            "True\n",
            "False\n",
            "========\n",
            "False\n"
          ]
        }
      ]
    },
    {
      "cell_type": "code",
      "source": [
        "a = [\"foo\", \"bar\"]\n",
        "print(a)\n",
        "print(a.pop())\n",
        "print(a)"
      ],
      "metadata": {
        "colab": {
          "base_uri": "https://localhost:8080/"
        },
        "id": "8-YyAG4XXFpi",
        "outputId": "97886a4d-e0c6-4bfe-823a-7d2b09befed7"
      },
      "execution_count": 40,
      "outputs": [
        {
          "output_type": "stream",
          "name": "stdout",
          "text": [
            "['foo', 'bar']\n",
            "bar\n",
            "['foo']\n"
          ]
        }
      ]
    },
    {
      "cell_type": "code",
      "source": [
        "a = [\"foo\", \"bar\"]\n",
        "\n",
        "while len(a):\n",
        "    print(a.pop(0))  # jalan 1; jalan 1.2\n",
        "\n",
        "    b = [\"baz\", \"qux\"]  # jalan 2; jalan 2.2\n",
        "\n",
        "    while len(b):  # jalan 3.1; jalan 3.2\n",
        "        print(\">\", b.pop(0))  # jalan 3.1.1; # jalan 3.1.2; jalan 3.2.1; jalan 3.2.2\n",
        "    else:\n",
        "        print(\"> inner loop selesai\")\n",
        "\n",
        "else:\n",
        "    print(\"outer loop selesai\")"
      ],
      "metadata": {
        "colab": {
          "base_uri": "https://localhost:8080/"
        },
        "id": "20_0mtcyXFmH",
        "outputId": "4bd6e534-f3dd-43b1-9038-3bea8bf68435"
      },
      "execution_count": 41,
      "outputs": [
        {
          "output_type": "stream",
          "name": "stdout",
          "text": [
            "foo\n",
            "> baz\n",
            "> qux\n",
            "> inner loop selesai\n",
            "bar\n",
            "> baz\n",
            "> qux\n",
            "> inner loop selesai\n",
            "outer loop selesai\n"
          ]
        }
      ]
    },
    {
      "cell_type": "code",
      "source": [
        "i = 0\n",
        "while i < 5:\n",
        "    print(i)\n",
        "    i += 1"
      ],
      "metadata": {
        "colab": {
          "base_uri": "https://localhost:8080/"
        },
        "id": "PYF3PlhSXFD5",
        "outputId": "532b0696-83b9-43f5-b4f6-d96fdb8dd35b"
      },
      "execution_count": 42,
      "outputs": [
        {
          "output_type": "stream",
          "name": "stdout",
          "text": [
            "0\n",
            "1\n",
            "2\n",
            "3\n",
            "4\n"
          ]
        }
      ]
    },
    {
      "cell_type": "markdown",
      "source": [
        "# **For Loop**"
      ],
      "metadata": {
        "id": "JILj67qeX4VK"
      }
    },
    {
      "cell_type": "code",
      "source": [
        "[\"foo\", \"bar\"]"
      ],
      "metadata": {
        "colab": {
          "base_uri": "https://localhost:8080/"
        },
        "id": "U3JGL0fIX9x7",
        "outputId": "cee3b2a5-7bdc-4ebb-f4ab-3376c1981fe2"
      },
      "execution_count": 43,
      "outputs": [
        {
          "output_type": "execute_result",
          "data": {
            "text/plain": [
              "['foo', 'bar']"
            ]
          },
          "metadata": {},
          "execution_count": 43
        }
      ]
    },
    {
      "cell_type": "code",
      "source": [
        "(\"foo\", \"bar\")"
      ],
      "metadata": {
        "colab": {
          "base_uri": "https://localhost:8080/"
        },
        "id": "Kv9riPPhX_8_",
        "outputId": "b9093481-15a2-4cb9-82af-97025437d59a"
      },
      "execution_count": 44,
      "outputs": [
        {
          "output_type": "execute_result",
          "data": {
            "text/plain": [
              "('foo', 'bar')"
            ]
          },
          "metadata": {},
          "execution_count": 44
        }
      ]
    },
    {
      "cell_type": "code",
      "source": [
        "[0, 1, 2, 3, 4]"
      ],
      "metadata": {
        "colab": {
          "base_uri": "https://localhost:8080/"
        },
        "id": "LiGet6GKX-kM",
        "outputId": "7a39cbd8-c4f9-451d-8293-48352db84317"
      },
      "execution_count": 45,
      "outputs": [
        {
          "output_type": "execute_result",
          "data": {
            "text/plain": [
              "[0, 1, 2, 3, 4]"
            ]
          },
          "metadata": {},
          "execution_count": 45
        }
      ]
    },
    {
      "cell_type": "code",
      "source": [
        "for i in [0, 1, 2, 3, 4]:\n",
        "    print(i)"
      ],
      "metadata": {
        "colab": {
          "base_uri": "https://localhost:8080/"
        },
        "id": "sdwKPuYHX-hX",
        "outputId": "a38d990c-819e-4dea-f7fb-8494e515db43"
      },
      "execution_count": 46,
      "outputs": [
        {
          "output_type": "stream",
          "name": "stdout",
          "text": [
            "0\n",
            "1\n",
            "2\n",
            "3\n",
            "4\n"
          ]
        }
      ]
    },
    {
      "cell_type": "code",
      "source": [
        "for i in range(5):\n",
        "    print(i)"
      ],
      "metadata": {
        "colab": {
          "base_uri": "https://localhost:8080/"
        },
        "id": "XCFe30XlX-dM",
        "outputId": "2777cce1-2b1a-468d-f9f9-a9275b391d93"
      },
      "execution_count": 47,
      "outputs": [
        {
          "output_type": "stream",
          "name": "stdout",
          "text": [
            "0\n",
            "1\n",
            "2\n",
            "3\n",
            "4\n"
          ]
        }
      ]
    },
    {
      "cell_type": "code",
      "source": [
        "for i in [\"foo\", \"bar\"]:\n",
        "    print(i)"
      ],
      "metadata": {
        "colab": {
          "base_uri": "https://localhost:8080/"
        },
        "id": "D8MTF7NKX-aD",
        "outputId": "bb92349c-f64d-44a3-f1c4-86113da07035"
      },
      "execution_count": 48,
      "outputs": [
        {
          "output_type": "stream",
          "name": "stdout",
          "text": [
            "foo\n",
            "bar\n"
          ]
        }
      ]
    },
    {
      "cell_type": "code",
      "source": [
        "for i in (\"foo\", \"bar\"):\n",
        "    print(i)"
      ],
      "metadata": {
        "colab": {
          "base_uri": "https://localhost:8080/"
        },
        "id": "ceShLN9cX-XO",
        "outputId": "bec2a9d5-6512-4ea3-a0d4-9e0a1dd342ec"
      },
      "execution_count": 49,
      "outputs": [
        {
          "output_type": "stream",
          "name": "stdout",
          "text": [
            "foo\n",
            "bar\n"
          ]
        }
      ]
    },
    {
      "cell_type": "code",
      "source": [
        "for i in {\"foo\", \"bar\"}:\n",
        "    print(i)"
      ],
      "metadata": {
        "colab": {
          "base_uri": "https://localhost:8080/"
        },
        "id": "tiDuSrtUX-UC",
        "outputId": "72a8697d-8615-48ba-b6e6-3327e1ac7e48"
      },
      "execution_count": 50,
      "outputs": [
        {
          "output_type": "stream",
          "name": "stdout",
          "text": [
            "foo\n",
            "bar\n"
          ]
        }
      ]
    },
    {
      "cell_type": "code",
      "source": [
        "d = {\"foo\": 1, \"bar\": 2, \"baz\": 3}\n",
        "\n",
        "for k in d:\n",
        "    print(k)\n",
        "\n",
        "print(\"=\" * 8)\n",
        "\n",
        "for k in d.keys():\n",
        "    print(k)\n",
        "\n",
        "print(\"=\" * 8)\n",
        "\n",
        "for v in d.values():\n",
        "    print(v)\n",
        "\n",
        "print(\"=\" * 8)\n",
        "\n",
        "for i in d.items():\n",
        "    print(i)\n",
        "\n",
        "print(\"=\" * 8)\n",
        "\n",
        "for k, v in d.items():\n",
        "    print(v, k)"
      ],
      "metadata": {
        "colab": {
          "base_uri": "https://localhost:8080/"
        },
        "id": "hxFlgJMwYXML",
        "outputId": "904fa2b7-d6bd-4536-83bb-f2fc2dc3d14e"
      },
      "execution_count": 51,
      "outputs": [
        {
          "output_type": "stream",
          "name": "stdout",
          "text": [
            "foo\n",
            "bar\n",
            "baz\n",
            "========\n",
            "foo\n",
            "bar\n",
            "baz\n",
            "========\n",
            "1\n",
            "2\n",
            "3\n",
            "========\n",
            "('foo', 1)\n",
            "('bar', 2)\n",
            "('baz', 3)\n",
            "========\n",
            "1 foo\n",
            "2 bar\n",
            "3 baz\n"
          ]
        }
      ]
    },
    {
      "cell_type": "markdown",
      "source": [
        "# **Range**\n",
        "\n",
        "range (start, stop, step)"
      ],
      "metadata": {
        "id": "q_aiDAfDalzk"
      }
    },
    {
      "cell_type": "code",
      "source": [
        "range(5)"
      ],
      "metadata": {
        "colab": {
          "base_uri": "https://localhost:8080/"
        },
        "id": "OeD8pxLOavSe",
        "outputId": "7f96553b-bab7-483c-fd16-a324b1d0b546"
      },
      "execution_count": 52,
      "outputs": [
        {
          "output_type": "execute_result",
          "data": {
            "text/plain": [
              "range(0, 5)"
            ]
          },
          "metadata": {},
          "execution_count": 52
        }
      ]
    },
    {
      "cell_type": "code",
      "source": [
        "range(10)"
      ],
      "metadata": {
        "colab": {
          "base_uri": "https://localhost:8080/"
        },
        "id": "ViUNIyLiayy_",
        "outputId": "cae7b5a6-d4ad-4b0c-8a02-14d93d43c113"
      },
      "execution_count": 53,
      "outputs": [
        {
          "output_type": "execute_result",
          "data": {
            "text/plain": [
              "range(0, 10)"
            ]
          },
          "metadata": {},
          "execution_count": 53
        }
      ]
    },
    {
      "cell_type": "code",
      "source": [
        "list(range(10))"
      ],
      "metadata": {
        "colab": {
          "base_uri": "https://localhost:8080/"
        },
        "id": "3OsezKgka1Ly",
        "outputId": "e9532c50-1b71-403d-aae2-11bda88a77d1"
      },
      "execution_count": 54,
      "outputs": [
        {
          "output_type": "execute_result",
          "data": {
            "text/plain": [
              "[0, 1, 2, 3, 4, 5, 6, 7, 8, 9]"
            ]
          },
          "metadata": {},
          "execution_count": 54
        }
      ]
    },
    {
      "cell_type": "code",
      "source": [
        "range(10, 2)"
      ],
      "metadata": {
        "colab": {
          "base_uri": "https://localhost:8080/"
        },
        "id": "VwtEFYO5a3Pn",
        "outputId": "39da3b5b-c73e-4663-eccc-d354e5e9823e"
      },
      "execution_count": 55,
      "outputs": [
        {
          "output_type": "execute_result",
          "data": {
            "text/plain": [
              "range(10, 2)"
            ]
          },
          "metadata": {},
          "execution_count": 55
        }
      ]
    },
    {
      "cell_type": "code",
      "source": [
        "list(range(10, 2))"
      ],
      "metadata": {
        "colab": {
          "base_uri": "https://localhost:8080/"
        },
        "id": "1UPFHh07a6EH",
        "outputId": "6846dc12-ef1c-437d-f29c-7b4b33de0460"
      },
      "execution_count": 56,
      "outputs": [
        {
          "output_type": "execute_result",
          "data": {
            "text/plain": [
              "[]"
            ]
          },
          "metadata": {},
          "execution_count": 56
        }
      ]
    },
    {
      "cell_type": "code",
      "source": [
        "range(0, 10, 2)"
      ],
      "metadata": {
        "colab": {
          "base_uri": "https://localhost:8080/"
        },
        "id": "QmQGgqVba8aY",
        "outputId": "8f2e722d-5ebb-43ab-99fa-8f027499ccf2"
      },
      "execution_count": 57,
      "outputs": [
        {
          "output_type": "execute_result",
          "data": {
            "text/plain": [
              "range(0, 10, 2)"
            ]
          },
          "metadata": {},
          "execution_count": 57
        }
      ]
    },
    {
      "cell_type": "code",
      "source": [
        "list(range(0, 10, 2))"
      ],
      "metadata": {
        "colab": {
          "base_uri": "https://localhost:8080/"
        },
        "id": "HHDLqMlza_DM",
        "outputId": "4c685f2b-307c-4d54-8259-ca620a7f104d"
      },
      "execution_count": 58,
      "outputs": [
        {
          "output_type": "execute_result",
          "data": {
            "text/plain": [
              "[0, 2, 4, 6, 8]"
            ]
          },
          "metadata": {},
          "execution_count": 58
        }
      ]
    },
    {
      "cell_type": "code",
      "source": [
        "range(10, 2, -1)"
      ],
      "metadata": {
        "colab": {
          "base_uri": "https://localhost:8080/"
        },
        "id": "2YtclUONbCE_",
        "outputId": "3102fdd0-a8a9-4a37-f612-154800d5d4df"
      },
      "execution_count": 59,
      "outputs": [
        {
          "output_type": "execute_result",
          "data": {
            "text/plain": [
              "range(10, 2, -1)"
            ]
          },
          "metadata": {},
          "execution_count": 59
        }
      ]
    },
    {
      "cell_type": "code",
      "source": [
        "list(range(10, 2, -1))"
      ],
      "metadata": {
        "colab": {
          "base_uri": "https://localhost:8080/"
        },
        "id": "Cvj9A3FKbFDK",
        "outputId": "7166bcd3-1ff1-4e45-a05f-aee4a15bcbec"
      },
      "execution_count": 60,
      "outputs": [
        {
          "output_type": "execute_result",
          "data": {
            "text/plain": [
              "[10, 9, 8, 7, 6, 5, 4, 3]"
            ]
          },
          "metadata": {},
          "execution_count": 60
        }
      ]
    },
    {
      "cell_type": "code",
      "source": [
        "for i in range(15, 0, -3):\n",
        "    print(i)"
      ],
      "metadata": {
        "colab": {
          "base_uri": "https://localhost:8080/"
        },
        "id": "z8JeE4P7bHKB",
        "outputId": "015a9747-08f0-4088-a770-349e8204c5eb"
      },
      "execution_count": 61,
      "outputs": [
        {
          "output_type": "stream",
          "name": "stdout",
          "text": [
            "15\n",
            "12\n",
            "9\n",
            "6\n",
            "3\n"
          ]
        }
      ]
    },
    {
      "cell_type": "code",
      "source": [
        "for i in \"range\":\n",
        "    print(i)"
      ],
      "metadata": {
        "colab": {
          "base_uri": "https://localhost:8080/"
        },
        "id": "dfnQEN0GbJtu",
        "outputId": "aa435462-3673-4814-adc9-62669fa5b56d"
      },
      "execution_count": 62,
      "outputs": [
        {
          "output_type": "stream",
          "name": "stdout",
          "text": [
            "r\n",
            "a\n",
            "n\n",
            "g\n",
            "e\n"
          ]
        }
      ]
    },
    {
      "cell_type": "code",
      "source": [
        "\"range\"[0]"
      ],
      "metadata": {
        "colab": {
          "base_uri": "https://localhost:8080/",
          "height": 36
        },
        "id": "g5jYE2QmbLtw",
        "outputId": "520ea88e-fb30-4e8b-9c4e-f84135f1f245"
      },
      "execution_count": 63,
      "outputs": [
        {
          "output_type": "execute_result",
          "data": {
            "text/plain": [
              "'r'"
            ],
            "application/vnd.google.colaboratory.intrinsic+json": {
              "type": "string"
            }
          },
          "metadata": {},
          "execution_count": 63
        }
      ]
    },
    {
      "cell_type": "code",
      "source": [
        "for i in [\"foo\", \"bar\", \"baz\", \"qux\"]:\n",
        "    if \"b\" in i:\n",
        "        break\n",
        "    print(i)"
      ],
      "metadata": {
        "colab": {
          "base_uri": "https://localhost:8080/"
        },
        "id": "0NwbAwqsbaci",
        "outputId": "d425685f-e71a-4045-e751-8f4b053544de"
      },
      "execution_count": 64,
      "outputs": [
        {
          "output_type": "stream",
          "name": "stdout",
          "text": [
            "foo\n"
          ]
        }
      ]
    },
    {
      "cell_type": "code",
      "source": [
        "for i in [\"foo\", \"bar\", \"baz\", \"qux\"]:\n",
        "    if \"b\" in i:\n",
        "        continue\n",
        "    print(i)"
      ],
      "metadata": {
        "colab": {
          "base_uri": "https://localhost:8080/"
        },
        "id": "Ni27YaFsbdJw",
        "outputId": "18744955-bcc4-4ccb-ea65-9ca28d85cd0b"
      },
      "execution_count": 65,
      "outputs": [
        {
          "output_type": "stream",
          "name": "stdout",
          "text": [
            "foo\n",
            "qux\n"
          ]
        }
      ]
    },
    {
      "cell_type": "code",
      "source": [
        "for i in [\"foo\", \"bar\", \"baz\", \"qux\"]:\n",
        "    print(i)\n",
        "else:\n",
        "    print(\"loop selesai\")"
      ],
      "metadata": {
        "colab": {
          "base_uri": "https://localhost:8080/"
        },
        "id": "TRf_Gab5bg2x",
        "outputId": "8d0a2f1d-4c0d-4d32-ff5f-fc20d139fccc"
      },
      "execution_count": 66,
      "outputs": [
        {
          "output_type": "stream",
          "name": "stdout",
          "text": [
            "foo\n",
            "bar\n",
            "baz\n",
            "qux\n",
            "loop selesai\n"
          ]
        }
      ]
    },
    {
      "cell_type": "code",
      "source": [
        "for i in [\"foo\", \"bar\", \"baz\", \"qux\"]:\n",
        "    if \"b\" in i:\n",
        "        break\n",
        "    print(i)\n",
        "else:\n",
        "    print(\"loop selesai\")"
      ],
      "metadata": {
        "colab": {
          "base_uri": "https://localhost:8080/"
        },
        "id": "p6DoVGoQbjQc",
        "outputId": "c6d7934a-64d4-490a-8a94-0254dacd12bc"
      },
      "execution_count": 67,
      "outputs": [
        {
          "output_type": "stream",
          "name": "stdout",
          "text": [
            "foo\n"
          ]
        }
      ]
    },
    {
      "cell_type": "code",
      "source": [
        "for i in [\"foo\", \"bar\", \"baz\", \"qux\"]:\n",
        "    if \"b\" in i:\n",
        "        continue\n",
        "    print(i)\n",
        "else:\n",
        "    print(\"loop selesai\")"
      ],
      "metadata": {
        "colab": {
          "base_uri": "https://localhost:8080/"
        },
        "id": "BgluhtBrbl51",
        "outputId": "365d0189-79e8-483a-8dab-1844d188c9fc"
      },
      "execution_count": 68,
      "outputs": [
        {
          "output_type": "stream",
          "name": "stdout",
          "text": [
            "foo\n",
            "qux\n",
            "loop selesai\n"
          ]
        }
      ]
    },
    {
      "cell_type": "code",
      "source": [
        "while True:\n",
        "    temp = input(\"Input temperatur yang ingin dikonversi, eg. 45F, 120C: \")\n",
        "    degree = int(temp[:-1])\n",
        "    i_convertion = temp[-1].upper()\n",
        "\n",
        "    if i_convertion == \"C\":\n",
        "        o_convertion = \"F\"\n",
        "        result_calc = int(round((9 * degree) / 5 + 32))\n",
        "        break\n",
        "    elif i_convertion == \"F\":\n",
        "        o_convertion = \"C\"\n",
        "        result_calc = int(round((degree - 32) * 5 / 9))\n",
        "        break\n",
        "    else:\n",
        "        print(\"Masukkan input yang benar\")\n",
        "\n",
        "result = f\"{result_calc}{o_convertion}\"\n",
        "\n",
        "print(\"Temperaturnya adalah\", result)"
      ],
      "metadata": {
        "colab": {
          "base_uri": "https://localhost:8080/"
        },
        "id": "VRHp_iTTboi1",
        "outputId": "df9dec0e-a462-48c3-e825-0b3aa04b03e4"
      },
      "execution_count": 69,
      "outputs": [
        {
          "output_type": "stream",
          "name": "stdout",
          "text": [
            "Input temperatur yang ingin dikonversi, eg. 45F, 120C: 16C\n",
            "Temperaturnya adalah 61F\n"
          ]
        }
      ]
    },
    {
      "cell_type": "code",
      "source": [
        "while True:\n",
        "    msg = input(\"Ketikkan karakter: \").lower()\n",
        "    print(msg)\n",
        "    if msg == \"stop\":\n",
        "        break"
      ],
      "metadata": {
        "colab": {
          "base_uri": "https://localhost:8080/"
        },
        "id": "HNXbq7cSbrOr",
        "outputId": "da92bfb7-1b9d-49c6-dba9-e887413be3dc"
      },
      "execution_count": 70,
      "outputs": [
        {
          "output_type": "stream",
          "name": "stdout",
          "text": [
            "Ketikkan karakter: kerja\n",
            "kerja\n",
            "Ketikkan karakter: kantor\n",
            "kantor\n",
            "Ketikkan karakter: tapi\n",
            "tapi\n",
            "Ketikkan karakter: melelahkan\n",
            "melelahkan\n",
            "Ketikkan karakter: stop\n",
            "stop\n"
          ]
        }
      ]
    }
  ]
}